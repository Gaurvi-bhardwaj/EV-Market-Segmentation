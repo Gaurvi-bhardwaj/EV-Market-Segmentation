{
 "cells": [
  {
   "cell_type": "markdown",
   "id": "541498a6",
   "metadata": {
    "execution": {
     "iopub.execute_input": "2023-11-03T06:35:05.698142Z",
     "iopub.status.busy": "2023-11-03T06:35:05.697747Z",
     "iopub.status.idle": "2023-11-03T06:35:05.722856Z",
     "shell.execute_reply": "2023-11-03T06:35:05.721912Z",
     "shell.execute_reply.started": "2023-11-03T06:35:05.698108Z"
    },
    "papermill": {
     "duration": 0.02377,
     "end_time": "2023-11-17T04:28:32.634008",
     "exception": false,
     "start_time": "2023-11-17T04:28:32.610238",
     "status": "completed"
    },
    "tags": []
   },
   "source": [
    "<h1 align=\"center\"><font color='Dark blue'>Market Segmentation Analysis on Electric Vehicle Datasets</font></h1>"
   ]
  },
  {
   "cell_type": "code",
   "execution_count": 41,
   "id": "84c5f665",
   "metadata": {
    "_cell_guid": "b1076dfc-b9ad-4769-8c92-a6c4dae69d19",
    "_uuid": "8f2839f25d086af736a60e9eeb907d3b93b6e0e5",
    "execution": {
     "iopub.execute_input": "2023-11-17T04:28:32.675346Z",
     "iopub.status.busy": "2023-11-17T04:28:32.674455Z",
     "iopub.status.idle": "2023-11-17T04:28:36.035799Z",
     "shell.execute_reply": "2023-11-17T04:28:36.034609Z"
    },
    "papermill": {
     "duration": 3.385036,
     "end_time": "2023-11-17T04:28:36.038728",
     "exception": false,
     "start_time": "2023-11-17T04:28:32.653692",
     "status": "completed"
    },
    "tags": []
   },
   "outputs": [],
   "source": [
    "import numpy as np\n",
    "import pandas as pd\n",
    "import matplotlib.pyplot as plt\n",
    "import seaborn as sns\n",
    "import missingno as msno\n",
    "import nltk\n",
    "from nltk.sentiment import SentimentIntensityAnalyzer\n",
    "from sklearn.preprocessing import StandardScaler\n",
    "from sklearn.decomposition import PCA\n",
    "from sklearn.cluster import KMeans\n",
    "import warnings"
   ]
  },
  {
   "cell_type": "code",
   "execution_count": 42,
   "id": "68640c85",
   "metadata": {
    "execution": {
     "iopub.execute_input": "2023-11-17T04:28:36.080345Z",
     "iopub.status.busy": "2023-11-17T04:28:36.079512Z",
     "iopub.status.idle": "2023-11-17T04:28:36.084882Z",
     "shell.execute_reply": "2023-11-17T04:28:36.083637Z"
    },
    "papermill": {
     "duration": 0.028529,
     "end_time": "2023-11-17T04:28:36.087377",
     "exception": false,
     "start_time": "2023-11-17T04:28:36.058848",
     "status": "completed"
    },
    "tags": []
   },
   "outputs": [],
   "source": [
    "warnings.filterwarnings(\"ignore\")\n",
    "pd.options.display.max_columns = None"
   ]
  },
  {
   "cell_type": "markdown",
   "id": "a7287f0e",
   "metadata": {
    "papermill": {
     "duration": 0.019399,
     "end_time": "2023-11-17T04:28:36.126124",
     "exception": false,
     "start_time": "2023-11-17T04:28:36.106725",
     "status": "completed"
    },
    "tags": []
   },
   "source": [
    "# EV Market India Dataset\n"
   ]
  },
  {
   "cell_type": "code",
   "execution_count": 43,
   "id": "37b9280a",
   "metadata": {
    "execution": {
     "iopub.execute_input": "2023-11-17T04:28:36.165770Z",
     "iopub.status.busy": "2023-11-17T04:28:36.165363Z",
     "iopub.status.idle": "2023-11-17T04:28:36.729260Z",
     "shell.execute_reply": "2023-11-17T04:28:36.727971Z"
    },
    "papermill": {
     "duration": 0.586996,
     "end_time": "2023-11-17T04:28:36.732318",
     "exception": false,
     "start_time": "2023-11-17T04:28:36.145322",
     "status": "completed"
    },
    "tags": []
   },
   "outputs": [],
   "source": [
    "df = pd.read_csv(\"ev_market_india_dataset.csv\")"
   ]
  },
  {
   "cell_type": "code",
   "execution_count": 44,
   "id": "66e0b9d7",
   "metadata": {},
   "outputs": [
    {
     "name": "stdout",
     "output_type": "stream",
     "text": [
      "<class 'pandas.core.frame.DataFrame'>\n",
      "RangeIndex: 103 entries, 0 to 102\n",
      "Data columns (total 14 columns):\n",
      " #   Column           Non-Null Count  Dtype  \n",
      "---  ------           --------------  -----  \n",
      " 0   Brand            103 non-null    object \n",
      " 1   Model            103 non-null    object \n",
      " 2   AccelSec         103 non-null    float64\n",
      " 3   TopSpeed_KmH     103 non-null    int64  \n",
      " 4   Range_Km         103 non-null    int64  \n",
      " 5   Efficiency_WhKm  103 non-null    int64  \n",
      " 6   FastCharge_KmH   103 non-null    int64  \n",
      " 7   RapidCharge      103 non-null    object \n",
      " 8   PowerTrain       103 non-null    object \n",
      " 9   PlugType         103 non-null    object \n",
      " 10  BodyStyle        103 non-null    object \n",
      " 11  Segment          103 non-null    object \n",
      " 12  Seats            103 non-null    int64  \n",
      " 13  PriceEuro        103 non-null    int64  \n",
      "dtypes: float64(1), int64(6), object(7)\n",
      "memory usage: 11.4+ KB\n"
     ]
    }
   ],
   "source": [
    "df.info()"
   ]
  },
  {
   "cell_type": "code",
   "execution_count": 45,
   "id": "95e5d83e",
   "metadata": {
    "execution": {
     "iopub.execute_input": "2023-11-17T04:28:36.836618Z",
     "iopub.status.busy": "2023-11-17T04:28:36.836025Z",
     "iopub.status.idle": "2023-11-17T04:28:36.844159Z",
     "shell.execute_reply": "2023-11-17T04:28:36.843024Z"
    },
    "papermill": {
     "duration": 0.094664,
     "end_time": "2023-11-17T04:28:36.846275",
     "exception": false,
     "start_time": "2023-11-17T04:28:36.751611",
     "status": "completed"
    },
    "tags": []
   },
   "outputs": [
    {
     "data": {
      "text/plain": [
       "Index(['Brand', 'Model', 'AccelSec', 'TopSpeed_KmH', 'Range_Km',\n",
       "       'Efficiency_WhKm', 'FastCharge_KmH', 'RapidCharge', 'PowerTrain',\n",
       "       'PlugType', 'BodyStyle', 'Segment', 'Seats', 'PriceEuro'],\n",
       "      dtype='object')"
      ]
     },
     "execution_count": 45,
     "metadata": {},
     "output_type": "execute_result"
    }
   ],
   "source": [
    "df.keys()"
   ]
  },
  {
   "cell_type": "code",
   "execution_count": 46,
   "id": "9eeb91fa",
   "metadata": {
    "execution": {
     "iopub.execute_input": "2023-11-17T04:28:36.886729Z",
     "iopub.status.busy": "2023-11-17T04:28:36.886312Z",
     "iopub.status.idle": "2023-11-17T04:28:36.907162Z",
     "shell.execute_reply": "2023-11-17T04:28:36.906279Z"
    },
    "papermill": {
     "duration": 0.04354,
     "end_time": "2023-11-17T04:28:36.909150",
     "exception": false,
     "start_time": "2023-11-17T04:28:36.865610",
     "status": "completed"
    },
    "tags": []
   },
   "outputs": [
    {
     "data": {
      "text/plain": [
       "0           Tesla\n",
       "1      Volkswagen\n",
       "2        Polestar\n",
       "3             BMW\n",
       "4           Honda\n",
       "          ...    \n",
       "98         Nissan\n",
       "99           Audi\n",
       "100        Nissan\n",
       "101        Nissan\n",
       "102         Byton\n",
       "Name: Brand, Length: 103, dtype: object"
      ]
     },
     "execution_count": 46,
     "metadata": {},
     "output_type": "execute_result"
    }
   ],
   "source": [
    "df['Brand']"
   ]
  },
  {
   "cell_type": "code",
   "execution_count": 112,
   "id": "25b7c952",
   "metadata": {},
   "outputs": [],
   "source": [
    "import matplotlib.pyplot as plt\n",
    "import seaborn as sns"
   ]
  },
  {
   "cell_type": "code",
   "execution_count": 113,
   "id": "edeed356",
   "metadata": {},
   "outputs": [
    {
     "data": {
      "image/png": "[encoded data removed]",
      "text/plain": [
       "<Figure size 720x432 with 1 Axes>"
      ]
     },
     "metadata": {
      "needs_background": "light"
     },
     "output_type": "display_data"
    }
   ],
   "source": [
    "# Visualize the range of EVs\n",
    "plt.figure(figsize=(10, 6))\n",
    "sns.barplot(data=df.sort_values(by='Range_Km', ascending=False).head(10), x='Range_Km', y='Model', palette='viridis')\n",
    "plt.xlabel('Range (Km)')\n",
    "plt.ylabel('EV Model')\n",
    "plt.title('Top 10 EVs with Highest Range')\n",
    "plt.show()"
   ]
  },
  {
   "cell_type": "code",
   "execution_count": 48,
   "id": "48b8d3e9",
   "metadata": {},
   "outputs": [
    {
     "data": {
      "image/png": "[encoded data removed]",
      "text/plain": [
       "<Figure size 720x432 with 1 Axes>"
      ]
     },
     "metadata": {
      "needs_background": "light"
     },
     "output_type": "display_data"
    }
   ],
   "source": [
    "# Visualize the efficiency of EVs\n",
    "plt.figure(figsize=(10, 6))\n",
    "sns.barplot(data=df.sort_values(by='Efficiency_WhKm', ascending=True).head(10), x='Efficiency_WhKm', y='Model', palette='viridis')\n",
    "plt.xlabel('Efficiency (Wh/Km)')\n",
    "plt.ylabel('EV Model')\n",
    "plt.title('Top 10 EVs with Highest Efficiency')\n",
    "plt.show()"
   ]
  },
  {
   "cell_type": "code",
   "execution_count": 49,
   "id": "147900c1",
   "metadata": {},
   "outputs": [
    {
     "data": {
      "image/png": "[encoded data removed]",
      "text/plain": [
       "<Figure size 720x432 with 1 Axes>"
      ]
     },
     "metadata": {
      "needs_background": "light"
     },
     "output_type": "display_data"
    }
   ],
   "source": [
    "# Visualize the price of EVs\n",
    "plt.figure(figsize=(10, 6))\n",
    "sns.barplot(data=df.sort_values(by='PriceEuro', ascending=True).head(10), x='PriceEuro', y='Model', palette='viridis')\n",
    "plt.xlabel('Price (Euro)')\n",
    "plt.ylabel('EV Model')\n",
    "plt.title('Top 10 EVs with Lowest Price')\n",
    "plt.show()"
   ]
  },
  {
   "cell_type": "code",
   "execution_count": 50,
   "id": "01de8deb",
   "metadata": {},
   "outputs": [
    {
     "data": {
      "image/png": "[encoded data removed]",
      "text/plain": [
       "<Figure size 720x576 with 1 Axes>"
      ]
     },
     "metadata": {
      "needs_background": "light"
     },
     "output_type": "display_data"
    }
   ],
   "source": [
    "fig, ax = plt.subplots(figsize=(10, 8))\n",
    "sns.barplot(data=df, x='Brand', y='Model', hue='PriceEuro', dodge=False, ax=ax)\n",
    "plt.xlabel('Brand', fontsize=12)\n",
    "plt.ylabel('Range (km)', fontsize=12)\n",
    "plt.title('Range vs Price for Electric Vehicle Brands', fontsize=14)\n",
    "plt.xticks(rotation=45, ha='right', fontsize=10)\n",
    "plt.yticks(fontsize=10)\n",
    "plt.legend(title='Price (Euro)', loc='upper left')\n",
    "\n",
    "# Apply custom formatter to y-axis labels\n",
    "ax.set_yticklabels([label.get_text().replace('_', ' ') for label in ax.get_yticklabels()], fontsize=10)\n",
    "\n",
    "plt.tight_layout()\n",
    "plt.show()\n"
   ]
  },
  {
   "cell_type": "markdown",
   "id": "7d0c3c5d",
   "metadata": {
    "papermill": {
     "duration": 0.022528,
     "end_time": "2023-11-17T04:28:38.596473",
     "exception": false,
     "start_time": "2023-11-17T04:28:38.573945",
     "status": "completed"
    },
    "tags": []
   },
   "source": [
    "# EVs Segmentation"
   ]
  },
  {
   "cell_type": "code",
   "execution_count": 51,
   "id": "282d62ed",
   "metadata": {
    "execution": {
     "iopub.execute_input": "2023-11-17T04:28:38.689258Z",
     "iopub.status.busy": "2023-11-17T04:28:38.688417Z",
     "iopub.status.idle": "2023-11-17T04:28:38.733462Z",
     "shell.execute_reply": "2023-11-17T04:28:38.732332Z"
    },
    "papermill": {
     "duration": 0.071431,
     "end_time": "2023-11-17T04:28:38.735984",
     "exception": false,
     "start_time": "2023-11-17T04:28:38.664553",
     "status": "completed"
    },
    "tags": []
   },
   "outputs": [],
   "source": [
    "data_bw = pd.read_csv(\"ev_dataset(reviews).csv\")\n"
   ]
  },
  {
   "cell_type": "code",
   "execution_count": 52,
   "id": "83c89836",
   "metadata": {},
   "outputs": [
    {
     "name": "stdout",
     "output_type": "stream",
     "text": [
      "<class 'pandas.core.frame.DataFrame'>\n",
      "RangeIndex: 844 entries, 0 to 843\n",
      "Data columns (total 14 columns):\n",
      " #   Column              Non-Null Count  Dtype  \n",
      "---  ------              --------------  -----  \n",
      " 0   review              797 non-null    object \n",
      " 1   Used it for         844 non-null    object \n",
      " 2   Owned for           844 non-null    object \n",
      " 3   Ridden for          668 non-null    object \n",
      " 4   rating              844 non-null    int64  \n",
      " 5   Visual Appeal       739 non-null    float64\n",
      " 6   Reliability         716 non-null    float64\n",
      " 7   Performance         345 non-null    float64\n",
      " 8   Service Experience  703 non-null    float64\n",
      " 9   Extra Features      185 non-null    float64\n",
      " 10  Comfort             530 non-null    float64\n",
      " 11  Maintenance cost    180 non-null    float64\n",
      " 12  Value for Money     390 non-null    float64\n",
      " 13  Model Name          844 non-null    object \n",
      "dtypes: float64(8), int64(1), object(5)\n",
      "memory usage: 92.4+ KB\n"
     ]
    }
   ],
   "source": [
    "data_bw.info()"
   ]
  },
  {
   "cell_type": "code",
   "execution_count": 53,
   "id": "1e0a798b",
   "metadata": {},
   "outputs": [],
   "source": [
    "data_model = pd.read_csv(\"ev_dataset(Technical).csv\")"
   ]
  },
  {
   "cell_type": "code",
   "execution_count": 54,
   "id": "1ca1f7f7",
   "metadata": {},
   "outputs": [
    {
     "name": "stdout",
     "output_type": "stream",
     "text": [
      "<class 'pandas.core.frame.DataFrame'>\n",
      "RangeIndex: 39 entries, 0 to 38\n",
      "Data columns (total 7 columns):\n",
      " #   Column                       Non-Null Count  Dtype \n",
      "---  ------                       --------------  ----- \n",
      " 0   Model Name                   39 non-null     object\n",
      " 1   Price                        39 non-null     int64 \n",
      " 2   Riding Range (km)            39 non-null     int64 \n",
      " 3   Top Speed (kmph)             39 non-null     int64 \n",
      " 4   Weight (kg)                  39 non-null     int64 \n",
      " 5   Battery Charging Time (hrs)  39 non-null     int64 \n",
      " 6   Rated Power (W)              39 non-null     int64 \n",
      "dtypes: int64(6), object(1)\n",
      "memory usage: 2.3+ KB\n"
     ]
    }
   ],
   "source": [
    "data_model.info()"
   ]
  },
  {
   "cell_type": "code",
   "execution_count": 55,
   "id": "685ccd06",
   "metadata": {
    "execution": {
     "iopub.execute_input": "2023-11-17T04:28:38.784527Z",
     "iopub.status.busy": "2023-11-17T04:28:38.784090Z",
     "iopub.status.idle": "2023-11-17T04:28:38.797247Z",
     "shell.execute_reply": "2023-11-17T04:28:38.796233Z"
    },
    "papermill": {
     "duration": 0.039936,
     "end_time": "2023-11-17T04:28:38.799702",
     "exception": false,
     "start_time": "2023-11-17T04:28:38.759766",
     "status": "completed"
    },
    "tags": []
   },
   "outputs": [],
   "source": [
    "data = data_bw.merge(data_model, how = 'left', on = 'Model Name')"
   ]
  },
  {
   "cell_type": "code",
   "execution_count": 15,
   "id": "8eaa7166",
   "metadata": {
    "execution": {
     "iopub.execute_input": "2023-11-17T04:28:38.848282Z",
     "iopub.status.busy": "2023-11-17T04:28:38.847816Z",
     "iopub.status.idle": "2023-11-17T04:28:38.870445Z",
     "shell.execute_reply": "2023-11-17T04:28:38.869300Z"
    },
    "papermill": {
     "duration": 0.04961,
     "end_time": "2023-11-17T04:28:38.872566",
     "exception": false,
     "start_time": "2023-11-17T04:28:38.822956",
     "status": "completed"
    },
    "tags": []
   },
   "outputs": [
    {
     "data": {
      "text/html": [
       "<div>\n",
       "<style scoped>\n",
       "    .dataframe tbody tr th:only-of-type {\n",
       "        vertical-align: middle;\n",
       "    }\n",
       "\n",
       "    .dataframe tbody tr th {\n",
       "        vertical-align: top;\n",
       "    }\n",
       "\n",
       "    .dataframe thead th {\n",
       "        text-align: right;\n",
       "    }\n",
       "</style>\n",
       "<table border=\"1\" class=\"dataframe\">\n",
       "  <thead>\n",
       "    <tr style=\"text-align: right;\">\n",
       "      <th></th>\n",
       "      <th>review</th>\n",
       "      <th>Used it for</th>\n",
       "      <th>Owned for</th>\n",
       "      <th>Ridden for</th>\n",
       "      <th>rating</th>\n",
       "      <th>Visual Appeal</th>\n",
       "      <th>Reliability</th>\n",
       "      <th>Performance</th>\n",
       "      <th>Service Experience</th>\n",
       "      <th>Extra Features</th>\n",
       "      <th>Comfort</th>\n",
       "      <th>Maintenance cost</th>\n",
       "      <th>Value for Money</th>\n",
       "      <th>Model Name</th>\n",
       "      <th>Price</th>\n",
       "      <th>Riding Range (km)</th>\n",
       "      <th>Top Speed (kmph)</th>\n",
       "      <th>Weight (kg)</th>\n",
       "      <th>Battery Charging Time (hrs)</th>\n",
       "      <th>Rated Power (W)</th>\n",
       "    </tr>\n",
       "  </thead>\n",
       "  <tbody>\n",
       "    <tr>\n",
       "      <th>0</th>\n",
       "      <td>We all checked the bike's capacity to be 150 k...</td>\n",
       "      <td>Daily Commute</td>\n",
       "      <td>Never owned</td>\n",
       "      <td>NaN</td>\n",
       "      <td>1</td>\n",
       "      <td>3.0</td>\n",
       "      <td>4.0</td>\n",
       "      <td>NaN</td>\n",
       "      <td>NaN</td>\n",
       "      <td>NaN</td>\n",
       "      <td>4.0</td>\n",
       "      <td>NaN</td>\n",
       "      <td>1.0</td>\n",
       "      <td>TVS iQube</td>\n",
       "      <td>137890</td>\n",
       "      <td>100</td>\n",
       "      <td>78</td>\n",
       "      <td>117</td>\n",
       "      <td>5</td>\n",
       "      <td>3000</td>\n",
       "    </tr>\n",
       "    <tr>\n",
       "      <th>1</th>\n",
       "      <td>Performance is very poor on this bike. The cha...</td>\n",
       "      <td>Everything</td>\n",
       "      <td>&gt; 1 yr</td>\n",
       "      <td>&lt; 5000 kms</td>\n",
       "      <td>1</td>\n",
       "      <td>3.0</td>\n",
       "      <td>1.0</td>\n",
       "      <td>NaN</td>\n",
       "      <td>1.0</td>\n",
       "      <td>NaN</td>\n",
       "      <td>3.0</td>\n",
       "      <td>NaN</td>\n",
       "      <td>3.0</td>\n",
       "      <td>TVS iQube</td>\n",
       "      <td>137890</td>\n",
       "      <td>100</td>\n",
       "      <td>78</td>\n",
       "      <td>117</td>\n",
       "      <td>5</td>\n",
       "      <td>3000</td>\n",
       "    </tr>\n",
       "    <tr>\n",
       "      <th>2</th>\n",
       "      <td>I purchased this in April 2022 and the sales s...</td>\n",
       "      <td>Daily Commute</td>\n",
       "      <td>&lt; 3 months</td>\n",
       "      <td>&lt; 5000 kms</td>\n",
       "      <td>3</td>\n",
       "      <td>4.0</td>\n",
       "      <td>4.0</td>\n",
       "      <td>NaN</td>\n",
       "      <td>2.0</td>\n",
       "      <td>NaN</td>\n",
       "      <td>5.0</td>\n",
       "      <td>NaN</td>\n",
       "      <td>2.0</td>\n",
       "      <td>TVS iQube</td>\n",
       "      <td>137890</td>\n",
       "      <td>100</td>\n",
       "      <td>78</td>\n",
       "      <td>117</td>\n",
       "      <td>5</td>\n",
       "      <td>3000</td>\n",
       "    </tr>\n",
       "    <tr>\n",
       "      <th>3</th>\n",
       "      <td>If any issues come in scooty parts not availab...</td>\n",
       "      <td>Daily Commute</td>\n",
       "      <td>6 months-1 yr</td>\n",
       "      <td>5000-10000 kms</td>\n",
       "      <td>1</td>\n",
       "      <td>1.0</td>\n",
       "      <td>1.0</td>\n",
       "      <td>NaN</td>\n",
       "      <td>1.0</td>\n",
       "      <td>NaN</td>\n",
       "      <td>1.0</td>\n",
       "      <td>NaN</td>\n",
       "      <td>1.0</td>\n",
       "      <td>TVS iQube</td>\n",
       "      <td>137890</td>\n",
       "      <td>100</td>\n",
       "      <td>78</td>\n",
       "      <td>117</td>\n",
       "      <td>5</td>\n",
       "      <td>3000</td>\n",
       "    </tr>\n",
       "    <tr>\n",
       "      <th>4</th>\n",
       "      <td>Don't buy this vehicle unless you have a near ...</td>\n",
       "      <td>Daily Commute</td>\n",
       "      <td>6 months-1 yr</td>\n",
       "      <td>&lt; 5000 kms</td>\n",
       "      <td>1</td>\n",
       "      <td>3.0</td>\n",
       "      <td>4.0</td>\n",
       "      <td>NaN</td>\n",
       "      <td>1.0</td>\n",
       "      <td>NaN</td>\n",
       "      <td>3.0</td>\n",
       "      <td>NaN</td>\n",
       "      <td>2.0</td>\n",
       "      <td>TVS iQube</td>\n",
       "      <td>137890</td>\n",
       "      <td>100</td>\n",
       "      <td>78</td>\n",
       "      <td>117</td>\n",
       "      <td>5</td>\n",
       "      <td>3000</td>\n",
       "    </tr>\n",
       "  </tbody>\n",
       "</table>\n",
       "</div>"
      ],
      "text/plain": [
       "                                              review    Used it for  \\\n",
       "0  We all checked the bike's capacity to be 150 k...  Daily Commute   \n",
       "1  Performance is very poor on this bike. The cha...     Everything   \n",
       "2  I purchased this in April 2022 and the sales s...  Daily Commute   \n",
       "3  If any issues come in scooty parts not availab...  Daily Commute   \n",
       "4  Don't buy this vehicle unless you have a near ...  Daily Commute   \n",
       "\n",
       "       Owned for      Ridden for  rating  Visual Appeal  Reliability  \\\n",
       "0    Never owned             NaN       1            3.0          4.0   \n",
       "1         > 1 yr      < 5000 kms       1            3.0          1.0   \n",
       "2     < 3 months      < 5000 kms       3            4.0          4.0   \n",
       "3  6 months-1 yr  5000-10000 kms       1            1.0          1.0   \n",
       "4  6 months-1 yr      < 5000 kms       1            3.0          4.0   \n",
       "\n",
       "   Performance  Service Experience  Extra Features  Comfort  Maintenance cost  \\\n",
       "0          NaN                 NaN             NaN      4.0               NaN   \n",
       "1          NaN                 1.0             NaN      3.0               NaN   \n",
       "2          NaN                 2.0             NaN      5.0               NaN   \n",
       "3          NaN                 1.0             NaN      1.0               NaN   \n",
       "4          NaN                 1.0             NaN      3.0               NaN   \n",
       "\n",
       "   Value for Money Model Name   Price  Riding Range (km)  Top Speed (kmph)  \\\n",
       "0              1.0  TVS iQube  137890                100                78   \n",
       "1              3.0  TVS iQube  137890                100                78   \n",
       "2              2.0  TVS iQube  137890                100                78   \n",
       "3              1.0  TVS iQube  137890                100                78   \n",
       "4              2.0  TVS iQube  137890                100                78   \n",
       "\n",
       "   Weight (kg)  Battery Charging Time (hrs)  Rated Power (W)  \n",
       "0          117                            5             3000  \n",
       "1          117                            5             3000  \n",
       "2          117                            5             3000  \n",
       "3          117                            5             3000  \n",
       "4          117                            5             3000  "
      ]
     },
     "execution_count": 15,
     "metadata": {},
     "output_type": "execute_result"
    }
   ],
   "source": [
    "data.head()"
   ]
  },
  {
   "cell_type": "code",
   "execution_count": 56,
   "id": "12eb610a",
   "metadata": {
    "execution": {
     "iopub.execute_input": "2023-11-17T04:28:38.921223Z",
     "iopub.status.busy": "2023-11-17T04:28:38.920250Z",
     "iopub.status.idle": "2023-11-17T04:28:39.902095Z",
     "shell.execute_reply": "2023-11-17T04:28:39.900850Z"
    },
    "papermill": {
     "duration": 1.009763,
     "end_time": "2023-11-17T04:28:39.905423",
     "exception": false,
     "start_time": "2023-11-17T04:28:38.895660",
     "status": "completed"
    },
    "tags": []
   },
   "outputs": [
    {
     "data": {
      "text/plain": [
       "<AxesSubplot:>"
      ]
     },
     "execution_count": 56,
     "metadata": {},
     "output_type": "execute_result"
    },
    {
     "data": {
      "image/png": "[encoded data removed]",
      "text/plain": [
       "<Figure size 1800x720 with 2 Axes>"
      ]
     },
     "metadata": {
      "needs_background": "light"
     },
     "output_type": "display_data"
    }
   ],
   "source": [
    "msno.matrix(data)"
   ]
  },
  {
   "cell_type": "code",
   "execution_count": 57,
   "id": "1d389b47",
   "metadata": {
    "execution": {
     "iopub.execute_input": "2023-11-17T04:28:39.959477Z",
     "iopub.status.busy": "2023-11-17T04:28:39.958998Z",
     "iopub.status.idle": "2023-11-17T04:28:39.970407Z",
     "shell.execute_reply": "2023-11-17T04:28:39.969257Z"
    },
    "papermill": {
     "duration": 0.040919,
     "end_time": "2023-11-17T04:28:39.972503",
     "exception": false,
     "start_time": "2023-11-17T04:28:39.931584",
     "status": "completed"
    },
    "tags": []
   },
   "outputs": [
    {
     "data": {
      "text/plain": [
       "Maintenance cost               78.672986\n",
       "Extra Features                 78.080569\n",
       "Performance                    59.123223\n",
       "Value for Money                53.791469\n",
       "Comfort                        37.203791\n",
       "Ridden for                     20.853081\n",
       "Service Experience             16.706161\n",
       "Reliability                    15.165877\n",
       "Visual Appeal                  12.440758\n",
       "review                          5.568720\n",
       "Used it for                     0.000000\n",
       "rating                          0.000000\n",
       "Owned for                       0.000000\n",
       "Model Name                      0.000000\n",
       "Price                           0.000000\n",
       "Riding Range (km)               0.000000\n",
       "Top Speed (kmph)                0.000000\n",
       "Weight (kg)                     0.000000\n",
       "Battery Charging Time (hrs)     0.000000\n",
       "Rated Power (W)                 0.000000\n",
       "dtype: float64"
      ]
     },
     "execution_count": 57,
     "metadata": {},
     "output_type": "execute_result"
    }
   ],
   "source": [
    "((data.isnull().sum() * 100/data.shape[0])).sort_values(ascending = False)"
   ]
  },
  {
   "cell_type": "code",
   "execution_count": 58,
   "id": "5819336c",
   "metadata": {
    "execution": {
     "iopub.execute_input": "2023-11-17T04:28:40.026591Z",
     "iopub.status.busy": "2023-11-17T04:28:40.025544Z",
     "iopub.status.idle": "2023-11-17T04:28:40.041749Z",
     "shell.execute_reply": "2023-11-17T04:28:40.040111Z"
    },
    "papermill": {
     "duration": 0.045658,
     "end_time": "2023-11-17T04:28:40.044014",
     "exception": false,
     "start_time": "2023-11-17T04:28:39.998356",
     "status": "completed"
    },
    "tags": []
   },
   "outputs": [
    {
     "name": "stdout",
     "output_type": "stream",
     "text": [
      "<class 'pandas.core.frame.DataFrame'>\n",
      "RangeIndex: 844 entries, 0 to 843\n",
      "Data columns (total 20 columns):\n",
      " #   Column                       Non-Null Count  Dtype  \n",
      "---  ------                       --------------  -----  \n",
      " 0   review                       797 non-null    object \n",
      " 1   Used it for                  844 non-null    object \n",
      " 2   Owned for                    844 non-null    object \n",
      " 3   Ridden for                   668 non-null    object \n",
      " 4   rating                       844 non-null    int64  \n",
      " 5   Visual Appeal                739 non-null    float64\n",
      " 6   Reliability                  716 non-null    float64\n",
      " 7   Performance                  345 non-null    float64\n",
      " 8   Service Experience           703 non-null    float64\n",
      " 9   Extra Features               185 non-null    float64\n",
      " 10  Comfort                      530 non-null    float64\n",
      " 11  Maintenance cost             180 non-null    float64\n",
      " 12  Value for Money              390 non-null    float64\n",
      " 13  Model Name                   844 non-null    object \n",
      " 14  Price                        844 non-null    int64  \n",
      " 15  Riding Range (km)            844 non-null    int64  \n",
      " 16  Top Speed (kmph)             844 non-null    int64  \n",
      " 17  Weight (kg)                  844 non-null    int64  \n",
      " 18  Battery Charging Time (hrs)  844 non-null    int64  \n",
      " 19  Rated Power (W)              844 non-null    int64  \n",
      "dtypes: float64(8), int64(7), object(5)\n",
      "memory usage: 132.0+ KB\n"
     ]
    }
   ],
   "source": [
    "data.info()"
   ]
  },
  {
   "cell_type": "code",
   "execution_count": 59,
   "id": "060aa3ef",
   "metadata": {},
   "outputs": [
    {
     "name": "stderr",
     "output_type": "stream",
     "text": [
      "[nltk_data] Downloading package vader_lexicon to\n",
      "[nltk_data]     C:\\Users\\gourv\\AppData\\Roaming\\nltk_data...\n",
      "[nltk_data]   Package vader_lexicon is already up-to-date!\n"
     ]
    },
    {
     "data": {
      "text/plain": [
       "True"
      ]
     },
     "execution_count": 59,
     "metadata": {},
     "output_type": "execute_result"
    }
   ],
   "source": [
    "import nltk\n",
    "nltk.download('vader_lexicon')"
   ]
  },
  {
   "cell_type": "code",
   "execution_count": 60,
   "id": "978428b2",
   "metadata": {
    "execution": {
     "iopub.execute_input": "2023-11-17T04:28:40.098228Z",
     "iopub.status.busy": "2023-11-17T04:28:40.097771Z",
     "iopub.status.idle": "2023-11-17T04:28:41.026988Z",
     "shell.execute_reply": "2023-11-17T04:28:41.025699Z"
    },
    "papermill": {
     "duration": 0.959345,
     "end_time": "2023-11-17T04:28:41.029614",
     "exception": false,
     "start_time": "2023-11-17T04:28:40.070269",
     "status": "completed"
    },
    "tags": []
   },
   "outputs": [],
   "source": [
    "sentiments = SentimentIntensityAnalyzer()\n",
    "sentiments_list = []\n",
    "\n",
    "for review_text in data['review']:\n",
    "    if pd.isna(review_text):\n",
    "        sentiments_list.append('neutral')\n",
    "        continue\n",
    "    sentiment_scores = sentiments.polarity_scores(review_text)\n",
    "\n",
    "    positive_score = sentiment_scores['pos']\n",
    "    negative_score = sentiment_scores['neg']\n",
    "\n",
    "    if positive_score > negative_score:\n",
    "        sentiment_label = 'positive'\n",
    "    elif positive_score < negative_score:\n",
    "        sentiment_label = 'negative'\n",
    "    else:\n",
    "        sentiment_label = 'neutral'\n",
    "\n",
    "    sentiments_list.append(sentiment_label)\n",
    "    \n",
    "data['sentiment'] = sentiments_list"
   ]
  },
  {
   "cell_type": "code",
   "execution_count": 61,
   "id": "f1e4bfc5",
   "metadata": {
    "execution": {
     "iopub.execute_input": "2023-11-17T04:28:41.085604Z",
     "iopub.status.busy": "2023-11-17T04:28:41.085183Z",
     "iopub.status.idle": "2023-11-17T04:28:41.094395Z",
     "shell.execute_reply": "2023-11-17T04:28:41.093321Z"
    },
    "papermill": {
     "duration": 0.039258,
     "end_time": "2023-11-17T04:28:41.096566",
     "exception": false,
     "start_time": "2023-11-17T04:28:41.057308",
     "status": "completed"
    },
    "tags": []
   },
   "outputs": [
    {
     "data": {
      "text/plain": [
       "sentiment\n",
       "positive    527\n",
       "negative    264\n",
       "neutral      53\n",
       "Name: count, dtype: int64"
      ]
     },
     "execution_count": 61,
     "metadata": {},
     "output_type": "execute_result"
    }
   ],
   "source": [
    "data['sentiment'].value_counts()"
   ]
  },
  {
   "cell_type": "code",
   "execution_count": 62,
   "id": "f05229c6",
   "metadata": {
    "execution": {
     "iopub.execute_input": "2023-11-17T04:28:41.150988Z",
     "iopub.status.busy": "2023-11-17T04:28:41.150570Z",
     "iopub.status.idle": "2023-11-17T04:28:41.158167Z",
     "shell.execute_reply": "2023-11-17T04:28:41.156917Z"
    },
    "papermill": {
     "duration": 0.037873,
     "end_time": "2023-11-17T04:28:41.160514",
     "exception": false,
     "start_time": "2023-11-17T04:28:41.122641",
     "status": "completed"
    },
    "tags": []
   },
   "outputs": [],
   "source": [
    "data_segment = data[['Used it for', 'Owned for', 'Ridden for', 'rating',\n",
    "       'Visual Appeal', 'Reliability', 'Performance', 'Service Experience',\n",
    "       'Extra Features', 'Comfort', 'Maintenance cost', 'Value for Money',\n",
    "       'sentiment']].copy()"
   ]
  },
  {
   "cell_type": "code",
   "execution_count": 63,
   "id": "4a3a77fe",
   "metadata": {
    "execution": {
     "iopub.execute_input": "2023-11-17T04:28:41.216561Z",
     "iopub.status.busy": "2023-11-17T04:28:41.216173Z",
     "iopub.status.idle": "2023-11-17T04:28:41.235016Z",
     "shell.execute_reply": "2023-11-17T04:28:41.233760Z"
    },
    "papermill": {
     "duration": 0.049997,
     "end_time": "2023-11-17T04:28:41.237456",
     "exception": false,
     "start_time": "2023-11-17T04:28:41.187459",
     "status": "completed"
    },
    "tags": []
   },
   "outputs": [
    {
     "data": {
      "text/html": [
       "<div>\n",
       "<style scoped>\n",
       "    .dataframe tbody tr th:only-of-type {\n",
       "        vertical-align: middle;\n",
       "    }\n",
       "\n",
       "    .dataframe tbody tr th {\n",
       "        vertical-align: top;\n",
       "    }\n",
       "\n",
       "    .dataframe thead th {\n",
       "        text-align: right;\n",
       "    }\n",
       "</style>\n",
       "<table border=\"1\" class=\"dataframe\">\n",
       "  <thead>\n",
       "    <tr style=\"text-align: right;\">\n",
       "      <th></th>\n",
       "      <th>Used it for</th>\n",
       "      <th>Owned for</th>\n",
       "      <th>Ridden for</th>\n",
       "      <th>rating</th>\n",
       "      <th>Visual Appeal</th>\n",
       "      <th>Reliability</th>\n",
       "      <th>Performance</th>\n",
       "      <th>Service Experience</th>\n",
       "      <th>Extra Features</th>\n",
       "      <th>Comfort</th>\n",
       "      <th>Maintenance cost</th>\n",
       "      <th>Value for Money</th>\n",
       "      <th>sentiment</th>\n",
       "    </tr>\n",
       "  </thead>\n",
       "  <tbody>\n",
       "    <tr>\n",
       "      <th>0</th>\n",
       "      <td>Daily Commute</td>\n",
       "      <td>Never owned</td>\n",
       "      <td>NaN</td>\n",
       "      <td>1</td>\n",
       "      <td>3.0</td>\n",
       "      <td>4.0</td>\n",
       "      <td>NaN</td>\n",
       "      <td>NaN</td>\n",
       "      <td>NaN</td>\n",
       "      <td>4.0</td>\n",
       "      <td>NaN</td>\n",
       "      <td>1.0</td>\n",
       "      <td>negative</td>\n",
       "    </tr>\n",
       "    <tr>\n",
       "      <th>1</th>\n",
       "      <td>Everything</td>\n",
       "      <td>&gt; 1 yr</td>\n",
       "      <td>&lt; 5000 kms</td>\n",
       "      <td>1</td>\n",
       "      <td>3.0</td>\n",
       "      <td>1.0</td>\n",
       "      <td>NaN</td>\n",
       "      <td>1.0</td>\n",
       "      <td>NaN</td>\n",
       "      <td>3.0</td>\n",
       "      <td>NaN</td>\n",
       "      <td>3.0</td>\n",
       "      <td>negative</td>\n",
       "    </tr>\n",
       "    <tr>\n",
       "      <th>2</th>\n",
       "      <td>Daily Commute</td>\n",
       "      <td>&lt; 3 months</td>\n",
       "      <td>&lt; 5000 kms</td>\n",
       "      <td>3</td>\n",
       "      <td>4.0</td>\n",
       "      <td>4.0</td>\n",
       "      <td>NaN</td>\n",
       "      <td>2.0</td>\n",
       "      <td>NaN</td>\n",
       "      <td>5.0</td>\n",
       "      <td>NaN</td>\n",
       "      <td>2.0</td>\n",
       "      <td>positive</td>\n",
       "    </tr>\n",
       "    <tr>\n",
       "      <th>3</th>\n",
       "      <td>Daily Commute</td>\n",
       "      <td>6 months-1 yr</td>\n",
       "      <td>5000-10000 kms</td>\n",
       "      <td>1</td>\n",
       "      <td>1.0</td>\n",
       "      <td>1.0</td>\n",
       "      <td>NaN</td>\n",
       "      <td>1.0</td>\n",
       "      <td>NaN</td>\n",
       "      <td>1.0</td>\n",
       "      <td>NaN</td>\n",
       "      <td>1.0</td>\n",
       "      <td>negative</td>\n",
       "    </tr>\n",
       "    <tr>\n",
       "      <th>4</th>\n",
       "      <td>Daily Commute</td>\n",
       "      <td>6 months-1 yr</td>\n",
       "      <td>&lt; 5000 kms</td>\n",
       "      <td>1</td>\n",
       "      <td>3.0</td>\n",
       "      <td>4.0</td>\n",
       "      <td>NaN</td>\n",
       "      <td>1.0</td>\n",
       "      <td>NaN</td>\n",
       "      <td>3.0</td>\n",
       "      <td>NaN</td>\n",
       "      <td>2.0</td>\n",
       "      <td>negative</td>\n",
       "    </tr>\n",
       "  </tbody>\n",
       "</table>\n",
       "</div>"
      ],
      "text/plain": [
       "     Used it for      Owned for      Ridden for  rating  Visual Appeal  \\\n",
       "0  Daily Commute    Never owned             NaN       1            3.0   \n",
       "1     Everything         > 1 yr      < 5000 kms       1            3.0   \n",
       "2  Daily Commute     < 3 months      < 5000 kms       3            4.0   \n",
       "3  Daily Commute  6 months-1 yr  5000-10000 kms       1            1.0   \n",
       "4  Daily Commute  6 months-1 yr      < 5000 kms       1            3.0   \n",
       "\n",
       "   Reliability  Performance  Service Experience  Extra Features  Comfort  \\\n",
       "0          4.0          NaN                 NaN             NaN      4.0   \n",
       "1          1.0          NaN                 1.0             NaN      3.0   \n",
       "2          4.0          NaN                 2.0             NaN      5.0   \n",
       "3          1.0          NaN                 1.0             NaN      1.0   \n",
       "4          4.0          NaN                 1.0             NaN      3.0   \n",
       "\n",
       "   Maintenance cost  Value for Money sentiment  \n",
       "0               NaN              1.0  negative  \n",
       "1               NaN              3.0  negative  \n",
       "2               NaN              2.0  positive  \n",
       "3               NaN              1.0  negative  \n",
       "4               NaN              2.0  negative  "
      ]
     },
     "execution_count": 63,
     "metadata": {},
     "output_type": "execute_result"
    }
   ],
   "source": [
    "data_segment.head()"
   ]
  },
  {
   "cell_type": "code",
   "execution_count": 64,
   "id": "6a4c7ac4",
   "metadata": {
    "execution": {
     "iopub.execute_input": "2023-11-17T04:28:41.292249Z",
     "iopub.status.busy": "2023-11-17T04:28:41.291787Z",
     "iopub.status.idle": "2023-11-17T04:28:41.313808Z",
     "shell.execute_reply": "2023-11-17T04:28:41.312786Z"
    },
    "papermill": {
     "duration": 0.052094,
     "end_time": "2023-11-17T04:28:41.315925",
     "exception": false,
     "start_time": "2023-11-17T04:28:41.263831",
     "status": "completed"
    },
    "tags": []
   },
   "outputs": [
    {
     "data": {
      "text/html": [
       "<div>\n",
       "<style scoped>\n",
       "    .dataframe tbody tr th:only-of-type {\n",
       "        vertical-align: middle;\n",
       "    }\n",
       "\n",
       "    .dataframe tbody tr th {\n",
       "        vertical-align: top;\n",
       "    }\n",
       "\n",
       "    .dataframe thead th {\n",
       "        text-align: right;\n",
       "    }\n",
       "</style>\n",
       "<table border=\"1\" class=\"dataframe\">\n",
       "  <thead>\n",
       "    <tr style=\"text-align: right;\">\n",
       "      <th></th>\n",
       "      <th>review</th>\n",
       "      <th>Used it for</th>\n",
       "      <th>Owned for</th>\n",
       "      <th>Ridden for</th>\n",
       "      <th>rating</th>\n",
       "      <th>Visual Appeal</th>\n",
       "      <th>Reliability</th>\n",
       "      <th>Performance</th>\n",
       "      <th>Service Experience</th>\n",
       "      <th>Extra Features</th>\n",
       "      <th>Comfort</th>\n",
       "      <th>Maintenance cost</th>\n",
       "      <th>Value for Money</th>\n",
       "      <th>Model Name</th>\n",
       "      <th>Price</th>\n",
       "      <th>Riding Range (km)</th>\n",
       "      <th>Top Speed (kmph)</th>\n",
       "      <th>Weight (kg)</th>\n",
       "      <th>Battery Charging Time (hrs)</th>\n",
       "      <th>Rated Power (W)</th>\n",
       "      <th>sentiment</th>\n",
       "    </tr>\n",
       "  </thead>\n",
       "  <tbody>\n",
       "    <tr>\n",
       "      <th>0</th>\n",
       "      <td>We all checked the bike's capacity to be 150 k...</td>\n",
       "      <td>Daily Commute</td>\n",
       "      <td>Never owned</td>\n",
       "      <td>NaN</td>\n",
       "      <td>1</td>\n",
       "      <td>3.0</td>\n",
       "      <td>4.0</td>\n",
       "      <td>NaN</td>\n",
       "      <td>NaN</td>\n",
       "      <td>NaN</td>\n",
       "      <td>4.0</td>\n",
       "      <td>NaN</td>\n",
       "      <td>1.0</td>\n",
       "      <td>TVS iQube</td>\n",
       "      <td>137890</td>\n",
       "      <td>100</td>\n",
       "      <td>78</td>\n",
       "      <td>117</td>\n",
       "      <td>5</td>\n",
       "      <td>3000</td>\n",
       "      <td>negative</td>\n",
       "    </tr>\n",
       "    <tr>\n",
       "      <th>1</th>\n",
       "      <td>Performance is very poor on this bike. The cha...</td>\n",
       "      <td>Everything</td>\n",
       "      <td>&gt; 1 yr</td>\n",
       "      <td>&lt; 5000 kms</td>\n",
       "      <td>1</td>\n",
       "      <td>3.0</td>\n",
       "      <td>1.0</td>\n",
       "      <td>NaN</td>\n",
       "      <td>1.0</td>\n",
       "      <td>NaN</td>\n",
       "      <td>3.0</td>\n",
       "      <td>NaN</td>\n",
       "      <td>3.0</td>\n",
       "      <td>TVS iQube</td>\n",
       "      <td>137890</td>\n",
       "      <td>100</td>\n",
       "      <td>78</td>\n",
       "      <td>117</td>\n",
       "      <td>5</td>\n",
       "      <td>3000</td>\n",
       "      <td>negative</td>\n",
       "    </tr>\n",
       "    <tr>\n",
       "      <th>2</th>\n",
       "      <td>I purchased this in April 2022 and the sales s...</td>\n",
       "      <td>Daily Commute</td>\n",
       "      <td>&lt; 3 months</td>\n",
       "      <td>&lt; 5000 kms</td>\n",
       "      <td>3</td>\n",
       "      <td>4.0</td>\n",
       "      <td>4.0</td>\n",
       "      <td>NaN</td>\n",
       "      <td>2.0</td>\n",
       "      <td>NaN</td>\n",
       "      <td>5.0</td>\n",
       "      <td>NaN</td>\n",
       "      <td>2.0</td>\n",
       "      <td>TVS iQube</td>\n",
       "      <td>137890</td>\n",
       "      <td>100</td>\n",
       "      <td>78</td>\n",
       "      <td>117</td>\n",
       "      <td>5</td>\n",
       "      <td>3000</td>\n",
       "      <td>positive</td>\n",
       "    </tr>\n",
       "    <tr>\n",
       "      <th>3</th>\n",
       "      <td>If any issues come in scooty parts not availab...</td>\n",
       "      <td>Daily Commute</td>\n",
       "      <td>6 months-1 yr</td>\n",
       "      <td>5000-10000 kms</td>\n",
       "      <td>1</td>\n",
       "      <td>1.0</td>\n",
       "      <td>1.0</td>\n",
       "      <td>NaN</td>\n",
       "      <td>1.0</td>\n",
       "      <td>NaN</td>\n",
       "      <td>1.0</td>\n",
       "      <td>NaN</td>\n",
       "      <td>1.0</td>\n",
       "      <td>TVS iQube</td>\n",
       "      <td>137890</td>\n",
       "      <td>100</td>\n",
       "      <td>78</td>\n",
       "      <td>117</td>\n",
       "      <td>5</td>\n",
       "      <td>3000</td>\n",
       "      <td>negative</td>\n",
       "    </tr>\n",
       "    <tr>\n",
       "      <th>4</th>\n",
       "      <td>Don't buy this vehicle unless you have a near ...</td>\n",
       "      <td>Daily Commute</td>\n",
       "      <td>6 months-1 yr</td>\n",
       "      <td>&lt; 5000 kms</td>\n",
       "      <td>1</td>\n",
       "      <td>3.0</td>\n",
       "      <td>4.0</td>\n",
       "      <td>NaN</td>\n",
       "      <td>1.0</td>\n",
       "      <td>NaN</td>\n",
       "      <td>3.0</td>\n",
       "      <td>NaN</td>\n",
       "      <td>2.0</td>\n",
       "      <td>TVS iQube</td>\n",
       "      <td>137890</td>\n",
       "      <td>100</td>\n",
       "      <td>78</td>\n",
       "      <td>117</td>\n",
       "      <td>5</td>\n",
       "      <td>3000</td>\n",
       "      <td>negative</td>\n",
       "    </tr>\n",
       "  </tbody>\n",
       "</table>\n",
       "</div>"
      ],
      "text/plain": [
       "                                              review    Used it for  \\\n",
       "0  We all checked the bike's capacity to be 150 k...  Daily Commute   \n",
       "1  Performance is very poor on this bike. The cha...     Everything   \n",
       "2  I purchased this in April 2022 and the sales s...  Daily Commute   \n",
       "3  If any issues come in scooty parts not availab...  Daily Commute   \n",
       "4  Don't buy this vehicle unless you have a near ...  Daily Commute   \n",
       "\n",
       "       Owned for      Ridden for  rating  Visual Appeal  Reliability  \\\n",
       "0    Never owned             NaN       1            3.0          4.0   \n",
       "1         > 1 yr      < 5000 kms       1            3.0          1.0   \n",
       "2     < 3 months      < 5000 kms       3            4.0          4.0   \n",
       "3  6 months-1 yr  5000-10000 kms       1            1.0          1.0   \n",
       "4  6 months-1 yr      < 5000 kms       1            3.0          4.0   \n",
       "\n",
       "   Performance  Service Experience  Extra Features  Comfort  Maintenance cost  \\\n",
       "0          NaN                 NaN             NaN      4.0               NaN   \n",
       "1          NaN                 1.0             NaN      3.0               NaN   \n",
       "2          NaN                 2.0             NaN      5.0               NaN   \n",
       "3          NaN                 1.0             NaN      1.0               NaN   \n",
       "4          NaN                 1.0             NaN      3.0               NaN   \n",
       "\n",
       "   Value for Money Model Name   Price  Riding Range (km)  Top Speed (kmph)  \\\n",
       "0              1.0  TVS iQube  137890                100                78   \n",
       "1              3.0  TVS iQube  137890                100                78   \n",
       "2              2.0  TVS iQube  137890                100                78   \n",
       "3              1.0  TVS iQube  137890                100                78   \n",
       "4              2.0  TVS iQube  137890                100                78   \n",
       "\n",
       "   Weight (kg)  Battery Charging Time (hrs)  Rated Power (W) sentiment  \n",
       "0          117                            5             3000  negative  \n",
       "1          117                            5             3000  negative  \n",
       "2          117                            5             3000  positive  \n",
       "3          117                            5             3000  negative  \n",
       "4          117                            5             3000  negative  "
      ]
     },
     "execution_count": 64,
     "metadata": {},
     "output_type": "execute_result"
    }
   ],
   "source": [
    "data.head()"
   ]
  },
  {
   "cell_type": "code",
   "execution_count": 65,
   "id": "f83e31c4",
   "metadata": {
    "execution": {
     "iopub.execute_input": "2023-11-17T04:28:41.370828Z",
     "iopub.status.busy": "2023-11-17T04:28:41.370415Z",
     "iopub.status.idle": "2023-11-17T04:28:41.375946Z",
     "shell.execute_reply": "2023-11-17T04:28:41.374762Z"
    },
    "papermill": {
     "duration": 0.035589,
     "end_time": "2023-11-17T04:28:41.378172",
     "exception": false,
     "start_time": "2023-11-17T04:28:41.342583",
     "status": "completed"
    },
    "tags": []
   },
   "outputs": [],
   "source": [
    "data_segment = data.iloc[:, 5:13].copy()"
   ]
  },
  {
   "cell_type": "code",
   "execution_count": 66,
   "id": "22920fbd",
   "metadata": {
    "execution": {
     "iopub.execute_input": "2023-11-17T04:28:41.435574Z",
     "iopub.status.busy": "2023-11-17T04:28:41.435190Z",
     "iopub.status.idle": "2023-11-17T04:28:41.440846Z",
     "shell.execute_reply": "2023-11-17T04:28:41.439902Z"
    },
    "papermill": {
     "duration": 0.037788,
     "end_time": "2023-11-17T04:28:41.443040",
     "exception": false,
     "start_time": "2023-11-17T04:28:41.405252",
     "status": "completed"
    },
    "tags": []
   },
   "outputs": [],
   "source": [
    "data_segment = data_segment.fillna(0.)"
   ]
  },
  {
   "cell_type": "code",
   "execution_count": 67,
   "id": "19f452b2",
   "metadata": {
    "execution": {
     "iopub.execute_input": "2023-11-17T04:28:41.498475Z",
     "iopub.status.busy": "2023-11-17T04:28:41.498084Z",
     "iopub.status.idle": "2023-11-17T04:28:41.508803Z",
     "shell.execute_reply": "2023-11-17T04:28:41.507524Z"
    },
    "papermill": {
     "duration": 0.041722,
     "end_time": "2023-11-17T04:28:41.511364",
     "exception": false,
     "start_time": "2023-11-17T04:28:41.469642",
     "status": "completed"
    },
    "tags": []
   },
   "outputs": [
    {
     "name": "stdout",
     "output_type": "stream",
     "text": [
      "<class 'pandas.core.frame.DataFrame'>\n",
      "RangeIndex: 844 entries, 0 to 843\n",
      "Data columns (total 8 columns):\n",
      " #   Column              Non-Null Count  Dtype  \n",
      "---  ------              --------------  -----  \n",
      " 0   Visual Appeal       844 non-null    float64\n",
      " 1   Reliability         844 non-null    float64\n",
      " 2   Performance         844 non-null    float64\n",
      " 3   Service Experience  844 non-null    float64\n",
      " 4   Extra Features      844 non-null    float64\n",
      " 5   Comfort             844 non-null    float64\n",
      " 6   Maintenance cost    844 non-null    float64\n",
      " 7   Value for Money     844 non-null    float64\n",
      "dtypes: float64(8)\n",
      "memory usage: 52.9 KB\n"
     ]
    }
   ],
   "source": [
    "data_segment.info()"
   ]
  },
  {
   "cell_type": "code",
   "execution_count": 68,
   "id": "0d9063f6",
   "metadata": {
    "execution": {
     "iopub.execute_input": "2023-11-17T04:28:41.567966Z",
     "iopub.status.busy": "2023-11-17T04:28:41.566991Z",
     "iopub.status.idle": "2023-11-17T04:28:41.576674Z",
     "shell.execute_reply": "2023-11-17T04:28:41.575609Z"
    },
    "papermill": {
     "duration": 0.040178,
     "end_time": "2023-11-17T04:28:41.578735",
     "exception": false,
     "start_time": "2023-11-17T04:28:41.538557",
     "status": "completed"
    },
    "tags": []
   },
   "outputs": [
    {
     "data": {
      "text/plain": [
       "Visual Appeal         3.309242\n",
       "Reliability           2.811611\n",
       "Performance           1.441943\n",
       "Service Experience    2.619668\n",
       "Extra Features        0.643365\n",
       "Comfort               2.300948\n",
       "Maintenance cost      0.723934\n",
       "Value for Money       1.562796\n",
       "dtype: float64"
      ]
     },
     "execution_count": 68,
     "metadata": {},
     "output_type": "execute_result"
    }
   ],
   "source": [
    "data_segment.mean()"
   ]
  },
  {
   "cell_type": "code",
   "execution_count": 69,
   "id": "24de7cb9",
   "metadata": {
    "execution": {
     "iopub.execute_input": "2023-11-17T04:28:41.635535Z",
     "iopub.status.busy": "2023-11-17T04:28:41.635115Z",
     "iopub.status.idle": "2023-11-17T04:28:41.645331Z",
     "shell.execute_reply": "2023-11-17T04:28:41.644258Z"
    },
    "papermill": {
     "duration": 0.041618,
     "end_time": "2023-11-17T04:28:41.647733",
     "exception": false,
     "start_time": "2023-11-17T04:28:41.606115",
     "status": "completed"
    },
    "tags": []
   },
   "outputs": [],
   "source": [
    "scaler = StandardScaler()\n",
    "data_scaled = scaler.fit_transform(data_segment)"
   ]
  },
  {
   "cell_type": "code",
   "execution_count": 70,
   "id": "85c140bc",
   "metadata": {
    "execution": {
     "iopub.execute_input": "2023-11-17T04:28:41.703992Z",
     "iopub.status.busy": "2023-11-17T04:28:41.703212Z",
     "iopub.status.idle": "2023-11-17T04:28:41.729717Z",
     "shell.execute_reply": "2023-11-17T04:28:41.728596Z"
    },
    "papermill": {
     "duration": 0.057153,
     "end_time": "2023-11-17T04:28:41.732031",
     "exception": false,
     "start_time": "2023-11-17T04:28:41.674878",
     "status": "completed"
    },
    "tags": []
   },
   "outputs": [
    {
     "data": {
      "text/plain": [
       "PCA(random_state=42)"
      ]
     },
     "execution_count": 70,
     "metadata": {},
     "output_type": "execute_result"
    }
   ],
   "source": [
    "pca = PCA(random_state = 42)\n",
    "pca.fit(data_scaled)"
   ]
  },
  {
   "cell_type": "code",
   "execution_count": 71,
   "id": "940b3e22",
   "metadata": {
    "execution": {
     "iopub.execute_input": "2023-11-17T04:28:41.787485Z",
     "iopub.status.busy": "2023-11-17T04:28:41.787088Z",
     "iopub.status.idle": "2023-11-17T04:28:41.792615Z",
     "shell.execute_reply": "2023-11-17T04:28:41.791508Z"
    },
    "papermill": {
     "duration": 0.035689,
     "end_time": "2023-11-17T04:28:41.794584",
     "exception": false,
     "start_time": "2023-11-17T04:28:41.758895",
     "status": "completed"
    },
    "tags": []
   },
   "outputs": [],
   "source": [
    "data_pca = pca.transform(data_scaled)"
   ]
  },
  {
   "cell_type": "code",
   "execution_count": 72,
   "id": "879baf0c",
   "metadata": {
    "execution": {
     "iopub.execute_input": "2023-11-17T04:28:41.850225Z",
     "iopub.status.busy": "2023-11-17T04:28:41.849778Z",
     "iopub.status.idle": "2023-11-17T04:28:41.856131Z",
     "shell.execute_reply": "2023-11-17T04:28:41.854833Z"
    },
    "papermill": {
     "duration": 0.037107,
     "end_time": "2023-11-17T04:28:41.858672",
     "exception": false,
     "start_time": "2023-11-17T04:28:41.821565",
     "status": "completed"
    },
    "tags": []
   },
   "outputs": [],
   "source": [
    "df_pca = pd.DataFrame(data_pca, columns = [f'PC{x +1}' for x in range(len(data_segment.columns))])"
   ]
  },
  {
   "cell_type": "code",
   "execution_count": 73,
   "id": "b752b96d",
   "metadata": {
    "execution": {
     "iopub.execute_input": "2023-11-17T04:28:41.914809Z",
     "iopub.status.busy": "2023-11-17T04:28:41.914370Z",
     "iopub.status.idle": "2023-11-17T04:28:41.929226Z",
     "shell.execute_reply": "2023-11-17T04:28:41.928113Z"
    },
    "papermill": {
     "duration": 0.045505,
     "end_time": "2023-11-17T04:28:41.931395",
     "exception": false,
     "start_time": "2023-11-17T04:28:41.885890",
     "status": "completed"
    },
    "tags": []
   },
   "outputs": [
    {
     "data": {
      "text/html": [
       "<div>\n",
       "<style scoped>\n",
       "    .dataframe tbody tr th:only-of-type {\n",
       "        vertical-align: middle;\n",
       "    }\n",
       "\n",
       "    .dataframe tbody tr th {\n",
       "        vertical-align: top;\n",
       "    }\n",
       "\n",
       "    .dataframe thead th {\n",
       "        text-align: right;\n",
       "    }\n",
       "</style>\n",
       "<table border=\"1\" class=\"dataframe\">\n",
       "  <thead>\n",
       "    <tr style=\"text-align: right;\">\n",
       "      <th></th>\n",
       "      <th>PC1</th>\n",
       "      <th>PC2</th>\n",
       "      <th>PC3</th>\n",
       "      <th>PC4</th>\n",
       "      <th>PC5</th>\n",
       "      <th>PC6</th>\n",
       "      <th>PC7</th>\n",
       "      <th>PC8</th>\n",
       "    </tr>\n",
       "  </thead>\n",
       "  <tbody>\n",
       "    <tr>\n",
       "      <th>0</th>\n",
       "      <td>0.291227</td>\n",
       "      <td>-1.038055</td>\n",
       "      <td>0.354864</td>\n",
       "      <td>-0.623469</td>\n",
       "      <td>-1.102720</td>\n",
       "      <td>-0.169287</td>\n",
       "      <td>-0.438012</td>\n",
       "      <td>0.957827</td>\n",
       "    </tr>\n",
       "    <tr>\n",
       "      <th>1</th>\n",
       "      <td>0.710801</td>\n",
       "      <td>-1.394405</td>\n",
       "      <td>-0.360466</td>\n",
       "      <td>-0.621671</td>\n",
       "      <td>0.320899</td>\n",
       "      <td>-0.086053</td>\n",
       "      <td>-0.426279</td>\n",
       "      <td>-0.149917</td>\n",
       "    </tr>\n",
       "    <tr>\n",
       "      <th>2</th>\n",
       "      <td>-0.849149</td>\n",
       "      <td>-1.189765</td>\n",
       "      <td>0.167683</td>\n",
       "      <td>-0.410898</td>\n",
       "      <td>-0.409054</td>\n",
       "      <td>-0.191904</td>\n",
       "      <td>-0.329993</td>\n",
       "      <td>0.830738</td>\n",
       "    </tr>\n",
       "    <tr>\n",
       "      <th>3</th>\n",
       "      <td>1.967022</td>\n",
       "      <td>-0.878935</td>\n",
       "      <td>-0.100197</td>\n",
       "      <td>0.330003</td>\n",
       "      <td>-0.075822</td>\n",
       "      <td>0.069599</td>\n",
       "      <td>0.013068</td>\n",
       "      <td>0.011328</td>\n",
       "    </tr>\n",
       "    <tr>\n",
       "      <th>4</th>\n",
       "      <td>0.078940</td>\n",
       "      <td>-1.017161</td>\n",
       "      <td>-0.079210</td>\n",
       "      <td>-0.324132</td>\n",
       "      <td>-0.961554</td>\n",
       "      <td>0.005517</td>\n",
       "      <td>-0.107260</td>\n",
       "      <td>0.427972</td>\n",
       "    </tr>\n",
       "  </tbody>\n",
       "</table>\n",
       "</div>"
      ],
      "text/plain": [
       "        PC1       PC2       PC3       PC4       PC5       PC6       PC7  \\\n",
       "0  0.291227 -1.038055  0.354864 -0.623469 -1.102720 -0.169287 -0.438012   \n",
       "1  0.710801 -1.394405 -0.360466 -0.621671  0.320899 -0.086053 -0.426279   \n",
       "2 -0.849149 -1.189765  0.167683 -0.410898 -0.409054 -0.191904 -0.329993   \n",
       "3  1.967022 -0.878935 -0.100197  0.330003 -0.075822  0.069599  0.013068   \n",
       "4  0.078940 -1.017161 -0.079210 -0.324132 -0.961554  0.005517 -0.107260   \n",
       "\n",
       "        PC8  \n",
       "0  0.957827  \n",
       "1 -0.149917  \n",
       "2  0.830738  \n",
       "3  0.011328  \n",
       "4  0.427972  "
      ]
     },
     "execution_count": 73,
     "metadata": {},
     "output_type": "execute_result"
    }
   ],
   "source": [
    "df_pca.head()"
   ]
  },
  {
   "cell_type": "code",
   "execution_count": 74,
   "id": "21eda1c9",
   "metadata": {
    "execution": {
     "iopub.execute_input": "2023-11-17T04:28:41.988637Z",
     "iopub.status.busy": "2023-11-17T04:28:41.987446Z",
     "iopub.status.idle": "2023-11-17T04:28:41.995296Z",
     "shell.execute_reply": "2023-11-17T04:28:41.994142Z"
    },
    "papermill": {
     "duration": 0.038975,
     "end_time": "2023-11-17T04:28:41.997707",
     "exception": false,
     "start_time": "2023-11-17T04:28:41.958732",
     "status": "completed"
    },
    "tags": []
   },
   "outputs": [],
   "source": [
    "pca_summary = pd.DataFrame({'Standard Deviation':df_pca.std(),\n",
    "                           'Proportion of Variance': pca.explained_variance_ratio_,\n",
    "                           'Cumultive Proportion': pca.explained_variance_ratio_.cumsum()})"
   ]
  },
  {
   "cell_type": "code",
   "execution_count": 75,
   "id": "35da69d4",
   "metadata": {
    "execution": {
     "iopub.execute_input": "2023-11-17T04:28:42.054613Z",
     "iopub.status.busy": "2023-11-17T04:28:42.054234Z",
     "iopub.status.idle": "2023-11-17T04:28:42.066226Z",
     "shell.execute_reply": "2023-11-17T04:28:42.065067Z"
    },
    "papermill": {
     "duration": 0.043252,
     "end_time": "2023-11-17T04:28:42.068633",
     "exception": false,
     "start_time": "2023-11-17T04:28:42.025381",
     "status": "completed"
    },
    "tags": []
   },
   "outputs": [
    {
     "data": {
      "text/html": [
       "<div>\n",
       "<style scoped>\n",
       "    .dataframe tbody tr th:only-of-type {\n",
       "        vertical-align: middle;\n",
       "    }\n",
       "\n",
       "    .dataframe tbody tr th {\n",
       "        vertical-align: top;\n",
       "    }\n",
       "\n",
       "    .dataframe thead th {\n",
       "        text-align: right;\n",
       "    }\n",
       "</style>\n",
       "<table border=\"1\" class=\"dataframe\">\n",
       "  <thead>\n",
       "    <tr style=\"text-align: right;\">\n",
       "      <th></th>\n",
       "      <th>Standard Deviation</th>\n",
       "      <th>Proportion of Variance</th>\n",
       "      <th>Cumultive Proportion</th>\n",
       "    </tr>\n",
       "  </thead>\n",
       "  <tbody>\n",
       "    <tr>\n",
       "      <th>PC1</th>\n",
       "      <td>1.845017</td>\n",
       "      <td>0.425007</td>\n",
       "      <td>0.425007</td>\n",
       "    </tr>\n",
       "    <tr>\n",
       "      <th>PC2</th>\n",
       "      <td>1.736646</td>\n",
       "      <td>0.376546</td>\n",
       "      <td>0.801553</td>\n",
       "    </tr>\n",
       "    <tr>\n",
       "      <th>PC3</th>\n",
       "      <td>0.903486</td>\n",
       "      <td>0.101915</td>\n",
       "      <td>0.903468</td>\n",
       "    </tr>\n",
       "    <tr>\n",
       "      <th>PC4</th>\n",
       "      <td>0.517750</td>\n",
       "      <td>0.033468</td>\n",
       "      <td>0.936936</td>\n",
       "    </tr>\n",
       "    <tr>\n",
       "      <th>PC5</th>\n",
       "      <td>0.405239</td>\n",
       "      <td>0.020503</td>\n",
       "      <td>0.957439</td>\n",
       "    </tr>\n",
       "    <tr>\n",
       "      <th>PC6</th>\n",
       "      <td>0.379558</td>\n",
       "      <td>0.017987</td>\n",
       "      <td>0.975426</td>\n",
       "    </tr>\n",
       "    <tr>\n",
       "      <th>PC7</th>\n",
       "      <td>0.337883</td>\n",
       "      <td>0.014254</td>\n",
       "      <td>0.989680</td>\n",
       "    </tr>\n",
       "    <tr>\n",
       "      <th>PC8</th>\n",
       "      <td>0.287510</td>\n",
       "      <td>0.010320</td>\n",
       "      <td>1.000000</td>\n",
       "    </tr>\n",
       "  </tbody>\n",
       "</table>\n",
       "</div>"
      ],
      "text/plain": [
       "     Standard Deviation  Proportion of Variance  Cumultive Proportion\n",
       "PC1            1.845017                0.425007              0.425007\n",
       "PC2            1.736646                0.376546              0.801553\n",
       "PC3            0.903486                0.101915              0.903468\n",
       "PC4            0.517750                0.033468              0.936936\n",
       "PC5            0.405239                0.020503              0.957439\n",
       "PC6            0.379558                0.017987              0.975426\n",
       "PC7            0.337883                0.014254              0.989680\n",
       "PC8            0.287510                0.010320              1.000000"
      ]
     },
     "execution_count": 75,
     "metadata": {},
     "output_type": "execute_result"
    }
   ],
   "source": [
    "pca_summary"
   ]
  },
  {
   "cell_type": "code",
   "execution_count": 76,
   "id": "fa77a794",
   "metadata": {
    "execution": {
     "iopub.execute_input": "2023-11-17T04:28:42.125265Z",
     "iopub.status.busy": "2023-11-17T04:28:42.124856Z",
     "iopub.status.idle": "2023-11-17T04:28:42.130765Z",
     "shell.execute_reply": "2023-11-17T04:28:42.129558Z"
    },
    "papermill": {
     "duration": 0.036594,
     "end_time": "2023-11-17T04:28:42.132890",
     "exception": false,
     "start_time": "2023-11-17T04:28:42.096296",
     "status": "completed"
    },
    "tags": []
   },
   "outputs": [],
   "source": [
    "factor_loadings = pd.DataFrame(pca.components_, columns = data_segment.columns, index = df_pca.columns).T"
   ]
  },
  {
   "cell_type": "code",
   "execution_count": 77,
   "id": "62e0e91e",
   "metadata": {
    "execution": {
     "iopub.execute_input": "2023-11-17T04:28:42.190596Z",
     "iopub.status.busy": "2023-11-17T04:28:42.190218Z",
     "iopub.status.idle": "2023-11-17T04:28:42.309127Z",
     "shell.execute_reply": "2023-11-17T04:28:42.308027Z"
    },
    "papermill": {
     "duration": 0.150579,
     "end_time": "2023-11-17T04:28:42.311537",
     "exception": false,
     "start_time": "2023-11-17T04:28:42.160958",
     "status": "completed"
    },
    "tags": []
   },
   "outputs": [],
   "source": [
    "#factor_loadings.style.background_gradient(cmap = 'Blues')"
   ]
  },
  {
   "cell_type": "code",
   "execution_count": 78,
   "id": "5b333db1",
   "metadata": {
    "execution": {
     "iopub.execute_input": "2023-11-17T04:28:42.370061Z",
     "iopub.status.busy": "2023-11-17T04:28:42.369432Z",
     "iopub.status.idle": "2023-11-17T04:28:42.710043Z",
     "shell.execute_reply": "2023-11-17T04:28:42.709147Z"
    },
    "papermill": {
     "duration": 0.372298,
     "end_time": "2023-11-17T04:28:42.712258",
     "exception": false,
     "start_time": "2023-11-17T04:28:42.339960",
     "status": "completed"
    },
    "tags": []
   },
   "outputs": [
    {
     "data": {
      "image/png": "[encoded data removed]",
      "text/plain": [
       "<Figure size 432x288 with 1 Axes>"
      ]
     },
     "metadata": {
      "needs_background": "light"
     },
     "output_type": "display_data"
    }
   ],
   "source": [
    "index_names = factor_loadings.index\n",
    "\n",
    "sns.scatterplot(df_pca, x = 'PC1', y = 'PC2', color = 'blue')\n",
    "\n",
    "\n",
    "for i in range(len(factor_loadings['PC1'])):\n",
    "    plt.arrow(0, 0, factor_loadings['PC1'][i] * 3.5, factor_loadings['PC2'][i] * 3.5, head_width=0.05, head_length=0.1, fc='red', ec='red')\n",
    "    plt.text((factor_loadings['PC1'][i] * 3.5), factor_loadings['PC2'][i]* 3.5, index_names[i], fontsize=20, ha='center', color = 'black', va = 'center_baseline')\n",
    "\n",
    "# \n",
    "plt.xlabel('PC1')\n",
    "plt.ylabel('PC2')\n",
    "plt.title('A Principal components analysis of the EV 2-Wheeler data set')\n",
    "plt.grid(True)\n",
    "plt.show()"
   ]
  },
  {
   "cell_type": "code",
   "execution_count": 79,
   "id": "30e24609",
   "metadata": {
    "execution": {
     "iopub.execute_input": "2023-11-17T04:28:42.774624Z",
     "iopub.status.busy": "2023-11-17T04:28:42.773939Z",
     "iopub.status.idle": "2023-11-17T04:28:43.022933Z",
     "shell.execute_reply": "2023-11-17T04:28:43.022012Z"
    },
    "papermill": {
     "duration": 0.283539,
     "end_time": "2023-11-17T04:28:43.025466",
     "exception": false,
     "start_time": "2023-11-17T04:28:42.741927",
     "status": "completed"
    },
    "tags": []
   },
   "outputs": [],
   "source": [
    "data_km28 = [KMeans(n_clusters = k, random_state = 42).fit(data_scaled) for k in range(2, 9)]"
   ]
  },
  {
   "cell_type": "code",
   "execution_count": 80,
   "id": "299caf64",
   "metadata": {
    "execution": {
     "iopub.execute_input": "2023-11-17T04:28:43.088738Z",
     "iopub.status.busy": "2023-11-17T04:28:43.088083Z",
     "iopub.status.idle": "2023-11-17T04:28:43.092486Z",
     "shell.execute_reply": "2023-11-17T04:28:43.091471Z"
    },
    "papermill": {
     "duration": 0.038421,
     "end_time": "2023-11-17T04:28:43.094634",
     "exception": false,
     "start_time": "2023-11-17T04:28:43.056213",
     "status": "completed"
    },
    "tags": []
   },
   "outputs": [],
   "source": [
    "wcss = [model.inertia_ for model in data_km28]"
   ]
  },
  {
   "cell_type": "code",
   "execution_count": 81,
   "id": "fbf3a4c3",
   "metadata": {
    "execution": {
     "iopub.execute_input": "2023-11-17T04:28:43.156113Z",
     "iopub.status.busy": "2023-11-17T04:28:43.155314Z",
     "iopub.status.idle": "2023-11-17T04:28:43.399967Z",
     "shell.execute_reply": "2023-11-17T04:28:43.399204Z"
    },
    "papermill": {
     "duration": 0.277503,
     "end_time": "2023-11-17T04:28:43.402030",
     "exception": false,
     "start_time": "2023-11-17T04:28:43.124527",
     "status": "completed"
    },
    "tags": []
   },
   "outputs": [
    {
     "data": {
      "image/png": "[encoded data removed]",
      "text/plain": [
       "<Figure size 432x288 with 1 Axes>"
      ]
     },
     "metadata": {
      "needs_background": "light"
     },
     "output_type": "display_data"
    }
   ],
   "source": [
    "fig = plt.figure(figsize = (6,4))\n",
    "sns.barplot(x = list(range(2, 9)), y = wcss, color = 'blue')\n",
    "plt.xlabel(\"Segments\")\n",
    "plt.ylabel('Sum of Within Cluster Distances')\n",
    "plt.title(\"Scree plot for the EV 2-Wheeler data set\")\n",
    "plt.show()"
   ]
  },
  {
   "cell_type": "code",
   "execution_count": 82,
   "id": "bd5aaabc",
   "metadata": {
    "execution": {
     "iopub.execute_input": "2023-11-17T04:28:43.464839Z",
     "iopub.status.busy": "2023-11-17T04:28:43.464071Z",
     "iopub.status.idle": "2023-11-17T04:28:43.472571Z",
     "shell.execute_reply": "2023-11-17T04:28:43.471413Z"
    },
    "papermill": {
     "duration": 0.042072,
     "end_time": "2023-11-17T04:28:43.475279",
     "exception": false,
     "start_time": "2023-11-17T04:28:43.433207",
     "status": "completed"
    },
    "tags": []
   },
   "outputs": [],
   "source": [
    "wcss_diff = pd.DataFrame({'Segments':range(2,9),\n",
    "                          'WCSS Difference': pd.Series(wcss).diff()})\n",
    "wcss_diff['WCSS Difference'][0] = 0"
   ]
  },
  {
   "cell_type": "code",
   "execution_count": 83,
   "id": "2f67e0f3",
   "metadata": {
    "execution": {
     "iopub.execute_input": "2023-11-17T04:28:43.537138Z",
     "iopub.status.busy": "2023-11-17T04:28:43.536693Z",
     "iopub.status.idle": "2023-11-17T04:28:43.774641Z",
     "shell.execute_reply": "2023-11-17T04:28:43.773151Z"
    },
    "papermill": {
     "duration": 0.272414,
     "end_time": "2023-11-17T04:28:43.777158",
     "exception": false,
     "start_time": "2023-11-17T04:28:43.504744",
     "status": "completed"
    },
    "tags": []
   },
   "outputs": [
    {
     "data": {
      "image/png": "[encoded data removed]",
      "text/plain": [
       "<Figure size 504x288 with 1 Axes>"
      ]
     },
     "metadata": {
      "needs_background": "light"
     },
     "output_type": "display_data"
    }
   ],
   "source": [
    "plt.figure(figsize = (7, 4))\n",
    "sns.barplot(wcss_diff, x = 'Segments', y = 'WCSS Difference')\n",
    "plt.show()"
   ]
  },
  {
   "cell_type": "code",
   "execution_count": 84,
   "id": "430bfede",
   "metadata": {
    "execution": {
     "iopub.execute_input": "2023-11-17T04:28:43.897906Z",
     "iopub.status.busy": "2023-11-17T04:28:43.897468Z",
     "iopub.status.idle": "2023-11-17T04:28:43.902386Z",
     "shell.execute_reply": "2023-11-17T04:28:43.901318Z"
    },
    "papermill": {
     "duration": 0.038648,
     "end_time": "2023-11-17T04:28:43.904672",
     "exception": false,
     "start_time": "2023-11-17T04:28:43.866024",
     "status": "completed"
    },
    "tags": []
   },
   "outputs": [],
   "source": [
    "kmeans = data_km28[2]"
   ]
  },
  {
   "cell_type": "code",
   "execution_count": 85,
   "id": "7f6151f1",
   "metadata": {
    "execution": {
     "iopub.execute_input": "2023-11-17T04:28:43.967582Z",
     "iopub.status.busy": "2023-11-17T04:28:43.967163Z",
     "iopub.status.idle": "2023-11-17T04:28:43.973114Z",
     "shell.execute_reply": "2023-11-17T04:28:43.971882Z"
    },
    "papermill": {
     "duration": 0.040347,
     "end_time": "2023-11-17T04:28:43.975270",
     "exception": false,
     "start_time": "2023-11-17T04:28:43.934923",
     "status": "completed"
    },
    "tags": []
   },
   "outputs": [],
   "source": [
    "data_clust = pd.DataFrame(data_scaled, columns = data_segment.columns)\n",
    "data_clust['cluster'] = kmeans.labels_"
   ]
  },
  {
   "cell_type": "code",
   "execution_count": 86,
   "id": "6aebade3",
   "metadata": {
    "execution": {
     "iopub.execute_input": "2023-11-17T04:28:44.037593Z",
     "iopub.status.busy": "2023-11-17T04:28:44.037153Z",
     "iopub.status.idle": "2023-11-17T04:28:44.043405Z",
     "shell.execute_reply": "2023-11-17T04:28:44.042243Z"
    },
    "papermill": {
     "duration": 0.040561,
     "end_time": "2023-11-17T04:28:44.045716",
     "exception": false,
     "start_time": "2023-11-17T04:28:44.005155",
     "status": "completed"
    },
    "tags": []
   },
   "outputs": [],
   "source": [
    "data_pca = df_pca.copy()\n",
    "data_pca['cluster'] = kmeans.labels_"
   ]
  },
  {
   "cell_type": "markdown",
   "id": "2a8432e7",
   "metadata": {
    "papermill": {
     "duration": 0.030134,
     "end_time": "2023-11-17T04:28:44.105459",
     "exception": false,
     "start_time": "2023-11-17T04:28:44.075325",
     "status": "completed"
    },
    "tags": []
   },
   "source": [
    "# Profiling Segments"
   ]
  },
  {
   "cell_type": "code",
   "execution_count": 87,
   "id": "9935d0cf",
   "metadata": {
    "execution": {
     "iopub.execute_input": "2023-11-17T04:28:44.167475Z",
     "iopub.status.busy": "2023-11-17T04:28:44.166779Z",
     "iopub.status.idle": "2023-11-17T04:28:44.171756Z",
     "shell.execute_reply": "2023-11-17T04:28:44.170960Z"
    },
    "papermill": {
     "duration": 0.038504,
     "end_time": "2023-11-17T04:28:44.173881",
     "exception": false,
     "start_time": "2023-11-17T04:28:44.135377",
     "status": "completed"
    },
    "tags": []
   },
   "outputs": [],
   "source": [
    "data_profile = data_segment.copy()\n",
    "data_profile['cluster'] = kmeans.labels_"
   ]
  },
  {
   "cell_type": "code",
   "execution_count": 88,
   "id": "7c288086",
   "metadata": {
    "execution": {
     "iopub.execute_input": "2023-11-17T04:28:44.236969Z",
     "iopub.status.busy": "2023-11-17T04:28:44.236243Z",
     "iopub.status.idle": "2023-11-17T04:28:44.247527Z",
     "shell.execute_reply": "2023-11-17T04:28:44.246439Z"
    },
    "papermill": {
     "duration": 0.046132,
     "end_time": "2023-11-17T04:28:44.250283",
     "exception": false,
     "start_time": "2023-11-17T04:28:44.204151",
     "status": "completed"
    },
    "tags": []
   },
   "outputs": [],
   "source": [
    "columns_segment = data_clust.columns\n",
    "data_pivot = data_profile[columns_segment].groupby('cluster').mean().T"
   ]
  },
  {
   "cell_type": "code",
   "execution_count": 89,
   "id": "fb7e37c7",
   "metadata": {
    "execution": {
     "iopub.execute_input": "2023-11-17T04:28:44.312322Z",
     "iopub.status.busy": "2023-11-17T04:28:44.311172Z",
     "iopub.status.idle": "2023-11-17T04:28:44.318043Z",
     "shell.execute_reply": "2023-11-17T04:28:44.317159Z"
    },
    "papermill": {
     "duration": 0.040459,
     "end_time": "2023-11-17T04:28:44.320370",
     "exception": false,
     "start_time": "2023-11-17T04:28:44.279911",
     "status": "completed"
    },
    "tags": []
   },
   "outputs": [],
   "source": [
    "data_pivot_mean = data_pivot.mean(axis = 1).reset_index()\n",
    "data_pivot_mean.columns = ['Variable', 'Value']"
   ]
  },
  {
   "cell_type": "code",
   "execution_count": 90,
   "id": "b4bb6518",
   "metadata": {
    "execution": {
     "iopub.execute_input": "2023-11-17T04:28:44.383799Z",
     "iopub.status.busy": "2023-11-17T04:28:44.383042Z",
     "iopub.status.idle": "2023-11-17T04:28:45.642649Z",
     "shell.execute_reply": "2023-11-17T04:28:45.641365Z"
    },
    "papermill": {
     "duration": 1.295039,
     "end_time": "2023-11-17T04:28:45.645802",
     "exception": false,
     "start_time": "2023-11-17T04:28:44.350763",
     "status": "completed"
    },
    "tags": []
   },
   "outputs": [
    {
     "data": {
      "image/png": "[encoded data removed]",
      "text/plain": [
       "<Figure size 864x648 with 4 Axes>"
      ]
     },
     "metadata": {
      "needs_background": "light"
     },
     "output_type": "display_data"
    }
   ],
   "source": [
    "plt.figure(figsize = (12, 9))\n",
    "for i in range(4):\n",
    "    plt.subplot(2, 2, i+1)\n",
    "    sns.barplot(data_pivot, x = i, y = data_pivot.index)\n",
    "    sns.scatterplot(data_pivot_mean, x = 'Value', y = 'Variable', color = 'red')\n",
    "    for index, row in data_pivot_mean.iterrows():\n",
    "        plt.hlines(y=row['Variable'], xmin=0, xmax=row['Value'], colors='red', alpha = 0.2)\n",
    "    plt.ylabel(\"\")\n",
    "    plt.xlabel(\"\")\n",
    "    plt.title(f\"Cluster {i}: {data_profile['cluster'].value_counts()[i]} ({data_profile['cluster'].value_counts()[i]*100/len(data_profile):.0f}%)\")\n",
    "plt.suptitle(\"Segment profile plot for the four-segment solution for the EV 2-Wheeler data set\", fontsize = 15)\n",
    "plt.tight_layout()\n",
    "plt.show()"
   ]
  },
  {
   "cell_type": "code",
   "execution_count": 91,
   "id": "cd73f43d",
   "metadata": {
    "execution": {
     "iopub.execute_input": "2023-11-17T04:28:45.775897Z",
     "iopub.status.busy": "2023-11-17T04:28:45.775144Z",
     "iopub.status.idle": "2023-11-17T04:28:46.233269Z",
     "shell.execute_reply": "2023-11-17T04:28:46.231949Z"
    },
    "papermill": {
     "duration": 0.494915,
     "end_time": "2023-11-17T04:28:46.237895",
     "exception": false,
     "start_time": "2023-11-17T04:28:45.742980",
     "status": "completed"
    },
    "tags": []
   },
   "outputs": [
    {
     "data": {
      "image/png": "[encoded data removed]",
      "text/plain": [
       "<Figure size 432x288 with 1 Axes>"
      ]
     },
     "metadata": {
      "needs_background": "light"
     },
     "output_type": "display_data"
    }
   ],
   "source": [
    "# Calculate centroid\n",
    "index_names = factor_loadings.index\n",
    "\n",
    "\n",
    "sns.scatterplot(data_pca, x = 'PC1', y = 'PC2', hue = 'cluster', palette = 'tab10')\n",
    "\n",
    "# Plot arrows from centroid to provided coordinates with index names\n",
    "for i in range(len(factor_loadings['PC1'])):\n",
    "    plt.arrow(0, 0, factor_loadings['PC1'][i] * 3.5, factor_loadings['PC2'][i] * 3.5, head_width=0.05, head_length=0.1, fc='red', ec='red')\n",
    "    plt.text(factor_loadings['PC1'][i] * 3.5, factor_loadings['PC2'][i]* 3.5, index_names[i], fontsize=12, ha='center', color = 'red', va = 'center_baseline')\n",
    "\n",
    "\n",
    "plt.xlabel('PC1')\n",
    "plt.ylabel('PC2')\n",
    "plt.title('Segment separation plot using principal components 1 and 2')\n",
    "plt.grid(True)\n",
    "plt.show()"
   ]
  },
  {
   "cell_type": "markdown",
   "id": "12af8a42",
   "metadata": {
    "papermill": {
     "duration": 0.032165,
     "end_time": "2023-11-17T04:28:46.369270",
     "exception": false,
     "start_time": "2023-11-17T04:28:46.337105",
     "status": "completed"
    },
    "tags": []
   },
   "source": [
    "# Describing Segments"
   ]
  },
  {
   "cell_type": "code",
   "execution_count": 92,
   "id": "1d392a74",
   "metadata": {
    "execution": {
     "iopub.execute_input": "2023-11-17T04:28:46.437224Z",
     "iopub.status.busy": "2023-11-17T04:28:46.436169Z",
     "iopub.status.idle": "2023-11-17T04:28:46.443820Z",
     "shell.execute_reply": "2023-11-17T04:28:46.442961Z"
    },
    "papermill": {
     "duration": 0.044149,
     "end_time": "2023-11-17T04:28:46.446157",
     "exception": false,
     "start_time": "2023-11-17T04:28:46.402008",
     "status": "completed"
    },
    "tags": []
   },
   "outputs": [],
   "source": [
    "data_desc = data.copy()\n",
    "data_desc['cluster'] = kmeans.labels_"
   ]
  },
  {
   "cell_type": "code",
   "execution_count": 93,
   "id": "c0d9159a",
   "metadata": {
    "execution": {
     "iopub.execute_input": "2023-11-17T04:28:46.514161Z",
     "iopub.status.busy": "2023-11-17T04:28:46.513074Z",
     "iopub.status.idle": "2023-11-17T04:28:46.519747Z",
     "shell.execute_reply": "2023-11-17T04:28:46.518916Z"
    },
    "papermill": {
     "duration": 0.042505,
     "end_time": "2023-11-17T04:28:46.521633",
     "exception": false,
     "start_time": "2023-11-17T04:28:46.479128",
     "status": "completed"
    },
    "tags": []
   },
   "outputs": [
    {
     "data": {
      "text/plain": [
       "Index(['review', 'Used it for', 'Owned for', 'Ridden for', 'rating',\n",
       "       'Visual Appeal', 'Reliability', 'Performance', 'Service Experience',\n",
       "       'Extra Features', 'Comfort', 'Maintenance cost', 'Value for Money',\n",
       "       'Model Name', 'Price', 'Riding Range (km)', 'Top Speed (kmph)',\n",
       "       'Weight (kg)', 'Battery Charging Time (hrs)', 'Rated Power (W)',\n",
       "       'sentiment', 'cluster'],\n",
       "      dtype='object')"
      ]
     },
     "execution_count": 93,
     "metadata": {},
     "output_type": "execute_result"
    }
   ],
   "source": [
    "data_desc.columns"
   ]
  },
  {
   "cell_type": "code",
   "execution_count": 94,
   "id": "a3abc796",
   "metadata": {
    "execution": {
     "iopub.execute_input": "2023-11-17T04:28:46.590242Z",
     "iopub.status.busy": "2023-11-17T04:28:46.589470Z",
     "iopub.status.idle": "2023-11-17T04:28:46.597777Z",
     "shell.execute_reply": "2023-11-17T04:28:46.596924Z"
    },
    "papermill": {
     "duration": 0.045308,
     "end_time": "2023-11-17T04:28:46.600094",
     "exception": false,
     "start_time": "2023-11-17T04:28:46.554786",
     "status": "completed"
    },
    "tags": []
   },
   "outputs": [],
   "source": [
    "def mosaicplot(df, color_list, figsize=(5,5), barwidth = 1, title = \"Simple Mosaic Plot\", xlabel = 'cat'):\n",
    "    \n",
    "    fig, ax = plt.subplots(figsize =figsize)\n",
    "    \n",
    "    p_cnt_ratio_df = df.div(df.sum(1), axis =0)\n",
    "    ratio_cum_df = p_cnt_ratio_df.cumsum(axis=1)\n",
    "    \n",
    "    \n",
    "    col_order = ratio_cum_df.columns.tolist()\n",
    "        \n",
    "    x = [str(n) for n in ratio_cum_df.index.tolist()]\n",
    "    \n",
    "    \n",
    "    for col, colour in zip(col_order[::-1], color_list):\n",
    "        plt.bar(x, ratio_cum_df[col], color=colour, edgecolor='white', width=barwidth, label=col)\n",
    "        \n",
    "    \n",
    "    plt.legend(loc='upper left', bbox_to_anchor=(1,1), ncol=1)\n",
    "    \n",
    "    plt.title(title)\n",
    "    plt.xlabel(\"Segments\")\n",
    "    ax.spines[\"right\"].set_visible(False)\n",
    "    ax.spines[\"left\"].set_visible(False)\n",
    "    ax.spines[\"top\"].set_visible(False)\n",
    "    plt.yticks([])\n",
    "    plt.show()\n"
   ]
  },
  {
   "cell_type": "code",
   "execution_count": 95,
   "id": "436cc564",
   "metadata": {
    "execution": {
     "iopub.execute_input": "2023-11-17T04:28:46.668982Z",
     "iopub.status.busy": "2023-11-17T04:28:46.668563Z",
     "iopub.status.idle": "2023-11-17T04:28:46.674088Z",
     "shell.execute_reply": "2023-11-17T04:28:46.672903Z"
    },
    "papermill": {
     "duration": 0.04202,
     "end_time": "2023-11-17T04:28:46.676350",
     "exception": false,
     "start_time": "2023-11-17T04:28:46.634330",
     "status": "completed"
    },
    "tags": []
   },
   "outputs": [],
   "source": [
    "color_list = ['#1F77B4', '#FF7F0E', '#2CA02C', '#D62728', '#9467BD', '#8C564B', '#E377C2', '#7F7F7F']"
   ]
  },
  {
   "cell_type": "code",
   "execution_count": 96,
   "id": "478b438e",
   "metadata": {
    "execution": {
     "iopub.execute_input": "2023-11-17T04:28:46.744481Z",
     "iopub.status.busy": "2023-11-17T04:28:46.743428Z",
     "iopub.status.idle": "2023-11-17T04:28:46.761758Z",
     "shell.execute_reply": "2023-11-17T04:28:46.760840Z"
    },
    "papermill": {
     "duration": 0.055109,
     "end_time": "2023-11-17T04:28:46.764288",
     "exception": false,
     "start_time": "2023-11-17T04:28:46.709179",
     "status": "completed"
    },
    "tags": []
   },
   "outputs": [],
   "source": [
    "sentiment_cluster = pd.crosstab(index = data_desc['cluster'], columns = data_desc['sentiment'])"
   ]
  },
  {
   "cell_type": "code",
   "execution_count": 97,
   "id": "643c5629",
   "metadata": {
    "execution": {
     "iopub.execute_input": "2023-11-17T04:28:46.831772Z",
     "iopub.status.busy": "2023-11-17T04:28:46.830703Z",
     "iopub.status.idle": "2023-11-17T04:28:46.841443Z",
     "shell.execute_reply": "2023-11-17T04:28:46.840455Z"
    },
    "papermill": {
     "duration": 0.046695,
     "end_time": "2023-11-17T04:28:46.843563",
     "exception": false,
     "start_time": "2023-11-17T04:28:46.796868",
     "status": "completed"
    },
    "tags": []
   },
   "outputs": [
    {
     "data": {
      "text/html": [
       "<div>\n",
       "<style scoped>\n",
       "    .dataframe tbody tr th:only-of-type {\n",
       "        vertical-align: middle;\n",
       "    }\n",
       "\n",
       "    .dataframe tbody tr th {\n",
       "        vertical-align: top;\n",
       "    }\n",
       "\n",
       "    .dataframe thead th {\n",
       "        text-align: right;\n",
       "    }\n",
       "</style>\n",
       "<table border=\"1\" class=\"dataframe\">\n",
       "  <thead>\n",
       "    <tr style=\"text-align: right;\">\n",
       "      <th>sentiment</th>\n",
       "      <th>negative</th>\n",
       "      <th>neutral</th>\n",
       "      <th>positive</th>\n",
       "    </tr>\n",
       "    <tr>\n",
       "      <th>cluster</th>\n",
       "      <th></th>\n",
       "      <th></th>\n",
       "      <th></th>\n",
       "    </tr>\n",
       "  </thead>\n",
       "  <tbody>\n",
       "    <tr>\n",
       "      <th>0</th>\n",
       "      <td>13</td>\n",
       "      <td>4</td>\n",
       "      <td>110</td>\n",
       "    </tr>\n",
       "    <tr>\n",
       "      <th>1</th>\n",
       "      <td>204</td>\n",
       "      <td>8</td>\n",
       "      <td>118</td>\n",
       "    </tr>\n",
       "    <tr>\n",
       "      <th>2</th>\n",
       "      <td>30</td>\n",
       "      <td>41</td>\n",
       "      <td>206</td>\n",
       "    </tr>\n",
       "    <tr>\n",
       "      <th>3</th>\n",
       "      <td>17</td>\n",
       "      <td>0</td>\n",
       "      <td>93</td>\n",
       "    </tr>\n",
       "  </tbody>\n",
       "</table>\n",
       "</div>"
      ],
      "text/plain": [
       "sentiment  negative  neutral  positive\n",
       "cluster                               \n",
       "0                13        4       110\n",
       "1               204        8       118\n",
       "2                30       41       206\n",
       "3                17        0        93"
      ]
     },
     "execution_count": 97,
     "metadata": {},
     "output_type": "execute_result"
    }
   ],
   "source": [
    "sentiment_cluster"
   ]
  },
  {
   "cell_type": "code",
   "execution_count": 98,
   "id": "14741a0b",
   "metadata": {
    "execution": {
     "iopub.execute_input": "2023-11-17T04:28:46.912410Z",
     "iopub.status.busy": "2023-11-17T04:28:46.911612Z",
     "iopub.status.idle": "2023-11-17T04:28:47.080238Z",
     "shell.execute_reply": "2023-11-17T04:28:47.078833Z"
    },
    "papermill": {
     "duration": 0.206573,
     "end_time": "2023-11-17T04:28:47.083531",
     "exception": false,
     "start_time": "2023-11-17T04:28:46.876958",
     "status": "completed"
    },
    "tags": []
   },
   "outputs": [
    {
     "data": {
      "image/png": "[encoded data removed]",
      "text/plain": [
       "<Figure size 432x360 with 1 Axes>"
      ]
     },
     "metadata": {
      "needs_background": "light"
     },
     "output_type": "display_data"
    }
   ],
   "source": [
    "mosaicplot(sentiment_cluster, color_list[:3], figsize=(6,5), barwidth = 1)"
   ]
  },
  {
   "cell_type": "code",
   "execution_count": 99,
   "id": "f85ff04a",
   "metadata": {
    "execution": {
     "iopub.execute_input": "2023-11-17T04:28:47.233893Z",
     "iopub.status.busy": "2023-11-17T04:28:47.232833Z",
     "iopub.status.idle": "2023-11-17T04:28:47.249744Z",
     "shell.execute_reply": "2023-11-17T04:28:47.248574Z"
    },
    "papermill": {
     "duration": 0.054144,
     "end_time": "2023-11-17T04:28:47.252442",
     "exception": false,
     "start_time": "2023-11-17T04:28:47.198298",
     "status": "completed"
    },
    "tags": []
   },
   "outputs": [],
   "source": [
    "used_cluster = pd.crosstab(index = data_desc['cluster'], columns = data_desc['Used it for'])"
   ]
  },
  {
   "cell_type": "code",
   "execution_count": 100,
   "id": "3f86146e",
   "metadata": {
    "execution": {
     "iopub.execute_input": "2023-11-17T04:28:47.321042Z",
     "iopub.status.busy": "2023-11-17T04:28:47.320640Z",
     "iopub.status.idle": "2023-11-17T04:28:47.330511Z",
     "shell.execute_reply": "2023-11-17T04:28:47.329711Z"
    },
    "papermill": {
     "duration": 0.045885,
     "end_time": "2023-11-17T04:28:47.332343",
     "exception": false,
     "start_time": "2023-11-17T04:28:47.286458",
     "status": "completed"
    },
    "tags": []
   },
   "outputs": [
    {
     "data": {
      "text/html": [
       "<div>\n",
       "<style scoped>\n",
       "    .dataframe tbody tr th:only-of-type {\n",
       "        vertical-align: middle;\n",
       "    }\n",
       "\n",
       "    .dataframe tbody tr th {\n",
       "        vertical-align: top;\n",
       "    }\n",
       "\n",
       "    .dataframe thead th {\n",
       "        text-align: right;\n",
       "    }\n",
       "</style>\n",
       "<table border=\"1\" class=\"dataframe\">\n",
       "  <thead>\n",
       "    <tr style=\"text-align: right;\">\n",
       "      <th>Used it for</th>\n",
       "      <th>Daily Commute</th>\n",
       "      <th>Everything</th>\n",
       "      <th>Leisure Rides</th>\n",
       "      <th>Occasional Commute</th>\n",
       "      <th>Tours</th>\n",
       "    </tr>\n",
       "    <tr>\n",
       "      <th>cluster</th>\n",
       "      <th></th>\n",
       "      <th></th>\n",
       "      <th></th>\n",
       "      <th></th>\n",
       "      <th></th>\n",
       "    </tr>\n",
       "  </thead>\n",
       "  <tbody>\n",
       "    <tr>\n",
       "      <th>0</th>\n",
       "      <td>75</td>\n",
       "      <td>39</td>\n",
       "      <td>4</td>\n",
       "      <td>9</td>\n",
       "      <td>0</td>\n",
       "    </tr>\n",
       "    <tr>\n",
       "      <th>1</th>\n",
       "      <td>244</td>\n",
       "      <td>47</td>\n",
       "      <td>7</td>\n",
       "      <td>27</td>\n",
       "      <td>5</td>\n",
       "    </tr>\n",
       "    <tr>\n",
       "      <th>2</th>\n",
       "      <td>194</td>\n",
       "      <td>55</td>\n",
       "      <td>7</td>\n",
       "      <td>19</td>\n",
       "      <td>2</td>\n",
       "    </tr>\n",
       "    <tr>\n",
       "      <th>3</th>\n",
       "      <td>87</td>\n",
       "      <td>19</td>\n",
       "      <td>2</td>\n",
       "      <td>1</td>\n",
       "      <td>1</td>\n",
       "    </tr>\n",
       "  </tbody>\n",
       "</table>\n",
       "</div>"
      ],
      "text/plain": [
       "Used it for  Daily Commute  Everything  Leisure Rides  Occasional Commute  \\\n",
       "cluster                                                                     \n",
       "0                       75          39              4                   9   \n",
       "1                      244          47              7                  27   \n",
       "2                      194          55              7                  19   \n",
       "3                       87          19              2                   1   \n",
       "\n",
       "Used it for  Tours  \n",
       "cluster             \n",
       "0                0  \n",
       "1                5  \n",
       "2                2  \n",
       "3                1  "
      ]
     },
     "execution_count": 100,
     "metadata": {},
     "output_type": "execute_result"
    }
   ],
   "source": [
    "used_cluster"
   ]
  },
  {
   "cell_type": "code",
   "execution_count": 101,
   "id": "e46c254c",
   "metadata": {
    "execution": {
     "iopub.execute_input": "2023-11-17T04:28:47.401074Z",
     "iopub.status.busy": "2023-11-17T04:28:47.400316Z",
     "iopub.status.idle": "2023-11-17T04:28:47.626884Z",
     "shell.execute_reply": "2023-11-17T04:28:47.625605Z"
    },
    "papermill": {
     "duration": 0.264274,
     "end_time": "2023-11-17T04:28:47.629865",
     "exception": false,
     "start_time": "2023-11-17T04:28:47.365591",
     "status": "completed"
    },
    "tags": []
   },
   "outputs": [
    {
     "data": {
      "image/png": "[encoded data removed]",
      "text/plain": [
       "<Figure size 432x360 with 1 Axes>"
      ]
     },
     "metadata": {
      "needs_background": "light"
     },
     "output_type": "display_data"
    }
   ],
   "source": [
    "mosaicplot(used_cluster, color_list[:5], figsize=(6,5), barwidth = 1, title = 'Mosaic plot for cross-tabulation of clusters and used it for for the EV 2-Wheelers data set' )"
   ]
  },
  {
   "cell_type": "code",
   "execution_count": 102,
   "id": "fb2ee85e",
   "metadata": {
    "_kg_hide-input": false,
    "execution": {
     "iopub.execute_input": "2023-11-17T04:28:47.766865Z",
     "iopub.status.busy": "2023-11-17T04:28:47.765937Z",
     "iopub.status.idle": "2023-11-17T04:28:47.782662Z",
     "shell.execute_reply": "2023-11-17T04:28:47.781732Z"
    },
    "papermill": {
     "duration": 0.055551,
     "end_time": "2023-11-17T04:28:47.785288",
     "exception": false,
     "start_time": "2023-11-17T04:28:47.729737",
     "status": "completed"
    },
    "tags": []
   },
   "outputs": [],
   "source": [
    "owned_cluster = pd.crosstab(index = data_desc['cluster'], columns = data_desc['Owned for'])"
   ]
  },
  {
   "cell_type": "code",
   "execution_count": 103,
   "id": "fd606492",
   "metadata": {
    "execution": {
     "iopub.execute_input": "2023-11-17T04:28:47.855508Z",
     "iopub.status.busy": "2023-11-17T04:28:47.855077Z",
     "iopub.status.idle": "2023-11-17T04:28:47.866994Z",
     "shell.execute_reply": "2023-11-17T04:28:47.865887Z"
    },
    "papermill": {
     "duration": 0.049918,
     "end_time": "2023-11-17T04:28:47.869397",
     "exception": false,
     "start_time": "2023-11-17T04:28:47.819479",
     "status": "completed"
    },
    "tags": []
   },
   "outputs": [
    {
     "data": {
      "text/html": [
       "<div>\n",
       "<style scoped>\n",
       "    .dataframe tbody tr th:only-of-type {\n",
       "        vertical-align: middle;\n",
       "    }\n",
       "\n",
       "    .dataframe tbody tr th {\n",
       "        vertical-align: top;\n",
       "    }\n",
       "\n",
       "    .dataframe thead th {\n",
       "        text-align: right;\n",
       "    }\n",
       "</style>\n",
       "<table border=\"1\" class=\"dataframe\">\n",
       "  <thead>\n",
       "    <tr style=\"text-align: right;\">\n",
       "      <th>Owned for</th>\n",
       "      <th>3-6 months</th>\n",
       "      <th>6 months-1 yr</th>\n",
       "      <th>&lt; 3 months</th>\n",
       "      <th>&gt; 1 yr</th>\n",
       "      <th>Never owned</th>\n",
       "      <th>Occasional Commute</th>\n",
       "    </tr>\n",
       "    <tr>\n",
       "      <th>cluster</th>\n",
       "      <th></th>\n",
       "      <th></th>\n",
       "      <th></th>\n",
       "      <th></th>\n",
       "      <th></th>\n",
       "      <th></th>\n",
       "    </tr>\n",
       "  </thead>\n",
       "  <tbody>\n",
       "    <tr>\n",
       "      <th>0</th>\n",
       "      <td>16</td>\n",
       "      <td>14</td>\n",
       "      <td>31</td>\n",
       "      <td>10</td>\n",
       "      <td>56</td>\n",
       "      <td>0</td>\n",
       "    </tr>\n",
       "    <tr>\n",
       "      <th>1</th>\n",
       "      <td>40</td>\n",
       "      <td>55</td>\n",
       "      <td>67</td>\n",
       "      <td>117</td>\n",
       "      <td>50</td>\n",
       "      <td>1</td>\n",
       "    </tr>\n",
       "    <tr>\n",
       "      <th>2</th>\n",
       "      <td>41</td>\n",
       "      <td>51</td>\n",
       "      <td>79</td>\n",
       "      <td>56</td>\n",
       "      <td>50</td>\n",
       "      <td>0</td>\n",
       "    </tr>\n",
       "    <tr>\n",
       "      <th>3</th>\n",
       "      <td>14</td>\n",
       "      <td>14</td>\n",
       "      <td>43</td>\n",
       "      <td>20</td>\n",
       "      <td>19</td>\n",
       "      <td>0</td>\n",
       "    </tr>\n",
       "  </tbody>\n",
       "</table>\n",
       "</div>"
      ],
      "text/plain": [
       "Owned for  3-6 months  6 months-1 yr  < 3 months  > 1 yr  Never owned  \\\n",
       "cluster                                                                 \n",
       "0                  16             14          31      10           56   \n",
       "1                  40             55          67     117           50   \n",
       "2                  41             51          79      56           50   \n",
       "3                  14             14          43      20           19   \n",
       "\n",
       "Owned for  Occasional Commute  \n",
       "cluster                        \n",
       "0                           0  \n",
       "1                           1  \n",
       "2                           0  \n",
       "3                           0  "
      ]
     },
     "execution_count": 103,
     "metadata": {},
     "output_type": "execute_result"
    }
   ],
   "source": [
    "owned_cluster"
   ]
  },
  {
   "cell_type": "code",
   "execution_count": 104,
   "id": "0e8fb8cb",
   "metadata": {
    "execution": {
     "iopub.execute_input": "2023-11-17T04:28:47.938644Z",
     "iopub.status.busy": "2023-11-17T04:28:47.938228Z",
     "iopub.status.idle": "2023-11-17T04:28:48.184678Z",
     "shell.execute_reply": "2023-11-17T04:28:48.183569Z"
    },
    "papermill": {
     "duration": 0.284018,
     "end_time": "2023-11-17T04:28:48.187220",
     "exception": false,
     "start_time": "2023-11-17T04:28:47.903202",
     "status": "completed"
    },
    "tags": []
   },
   "outputs": [
    {
     "data": {
      "image/png": "[encoded data removed]",
      "text/plain": [
       "<Figure size 432x360 with 1 Axes>"
      ]
     },
     "metadata": {
      "needs_background": "light"
     },
     "output_type": "display_data"
    }
   ],
   "source": [
    "mosaicplot(owned_cluster, color_list[:6], figsize=(6,5), barwidth = 1, title = 'Mosaic plot for cross-tabulation of clusters and owned for for the EV 2-Wheelers data set' )"
   ]
  },
  {
   "cell_type": "code",
   "execution_count": 105,
   "id": "0cb47263",
   "metadata": {
    "execution": {
     "iopub.execute_input": "2023-11-17T04:28:48.326473Z",
     "iopub.status.busy": "2023-11-17T04:28:48.325326Z",
     "iopub.status.idle": "2023-11-17T04:28:48.340816Z",
     "shell.execute_reply": "2023-11-17T04:28:48.339812Z"
    },
    "papermill": {
     "duration": 0.053423,
     "end_time": "2023-11-17T04:28:48.343066",
     "exception": false,
     "start_time": "2023-11-17T04:28:48.289643",
     "status": "completed"
    },
    "tags": []
   },
   "outputs": [],
   "source": [
    "ridden_cluster = pd.crosstab(index = data_desc['cluster'], columns = data_desc['Ridden for'])"
   ]
  },
  {
   "cell_type": "code",
   "execution_count": 106,
   "id": "60d39c63",
   "metadata": {
    "execution": {
     "iopub.execute_input": "2023-11-17T04:28:48.413376Z",
     "iopub.status.busy": "2023-11-17T04:28:48.412955Z",
     "iopub.status.idle": "2023-11-17T04:28:48.423191Z",
     "shell.execute_reply": "2023-11-17T04:28:48.422326Z"
    },
    "papermill": {
     "duration": 0.047791,
     "end_time": "2023-11-17T04:28:48.425112",
     "exception": false,
     "start_time": "2023-11-17T04:28:48.377321",
     "status": "completed"
    },
    "tags": []
   },
   "outputs": [
    {
     "data": {
      "text/html": [
       "<div>\n",
       "<style scoped>\n",
       "    .dataframe tbody tr th:only-of-type {\n",
       "        vertical-align: middle;\n",
       "    }\n",
       "\n",
       "    .dataframe tbody tr th {\n",
       "        vertical-align: top;\n",
       "    }\n",
       "\n",
       "    .dataframe thead th {\n",
       "        text-align: right;\n",
       "    }\n",
       "</style>\n",
       "<table border=\"1\" class=\"dataframe\">\n",
       "  <thead>\n",
       "    <tr style=\"text-align: right;\">\n",
       "      <th>Ridden for</th>\n",
       "      <th>10000-15000 kms</th>\n",
       "      <th>5000-10000 kms</th>\n",
       "      <th>&lt; 5000 kms</th>\n",
       "      <th>&gt; 15000 kms</th>\n",
       "      <th>Never owned</th>\n",
       "    </tr>\n",
       "    <tr>\n",
       "      <th>cluster</th>\n",
       "      <th></th>\n",
       "      <th></th>\n",
       "      <th></th>\n",
       "      <th></th>\n",
       "      <th></th>\n",
       "    </tr>\n",
       "  </thead>\n",
       "  <tbody>\n",
       "    <tr>\n",
       "      <th>0</th>\n",
       "      <td>1</td>\n",
       "      <td>15</td>\n",
       "      <td>54</td>\n",
       "      <td>1</td>\n",
       "      <td>0</td>\n",
       "    </tr>\n",
       "    <tr>\n",
       "      <th>1</th>\n",
       "      <td>15</td>\n",
       "      <td>61</td>\n",
       "      <td>184</td>\n",
       "      <td>18</td>\n",
       "      <td>1</td>\n",
       "    </tr>\n",
       "    <tr>\n",
       "      <th>2</th>\n",
       "      <td>11</td>\n",
       "      <td>44</td>\n",
       "      <td>158</td>\n",
       "      <td>14</td>\n",
       "      <td>0</td>\n",
       "    </tr>\n",
       "    <tr>\n",
       "      <th>3</th>\n",
       "      <td>5</td>\n",
       "      <td>18</td>\n",
       "      <td>63</td>\n",
       "      <td>5</td>\n",
       "      <td>0</td>\n",
       "    </tr>\n",
       "  </tbody>\n",
       "</table>\n",
       "</div>"
      ],
      "text/plain": [
       "Ridden for  10000-15000 kms  5000-10000 kms  < 5000 kms  > 15000 kms  \\\n",
       "cluster                                                                \n",
       "0                         1              15          54            1   \n",
       "1                        15              61         184           18   \n",
       "2                        11              44         158           14   \n",
       "3                         5              18          63            5   \n",
       "\n",
       "Ridden for  Never owned  \n",
       "cluster                  \n",
       "0                     0  \n",
       "1                     1  \n",
       "2                     0  \n",
       "3                     0  "
      ]
     },
     "execution_count": 106,
     "metadata": {},
     "output_type": "execute_result"
    }
   ],
   "source": [
    "ridden_cluster"
   ]
  },
  {
   "cell_type": "code",
   "execution_count": 107,
   "id": "3d7c9ba1",
   "metadata": {
    "execution": {
     "iopub.execute_input": "2023-11-17T04:28:48.495765Z",
     "iopub.status.busy": "2023-11-17T04:28:48.495168Z",
     "iopub.status.idle": "2023-11-17T04:28:48.723401Z",
     "shell.execute_reply": "2023-11-17T04:28:48.722108Z"
    },
    "papermill": {
     "duration": 0.267105,
     "end_time": "2023-11-17T04:28:48.726524",
     "exception": false,
     "start_time": "2023-11-17T04:28:48.459419",
     "status": "completed"
    },
    "tags": []
   },
   "outputs": [
    {
     "data": {
      "image/png": "[encoded data removed]",
      "text/plain": [
       "<Figure size 432x360 with 1 Axes>"
      ]
     },
     "metadata": {
      "needs_background": "light"
     },
     "output_type": "display_data"
    }
   ],
   "source": [
    "mosaicplot(ridden_cluster, color_list[:5], figsize=(6,5), barwidth = 1, title = 'Mosaic plot for cross-tabulation of clusters and ridden for for the EV 2-Wheelers data set' )"
   ]
  },
  {
   "cell_type": "code",
   "execution_count": 108,
   "id": "e915e44a",
   "metadata": {
    "execution": {
     "iopub.execute_input": "2023-11-17T04:28:48.869402Z",
     "iopub.status.busy": "2023-11-17T04:28:48.868734Z",
     "iopub.status.idle": "2023-11-17T04:28:49.221528Z",
     "shell.execute_reply": "2023-11-17T04:28:49.220409Z"
    },
    "papermill": {
     "duration": 0.391556,
     "end_time": "2023-11-17T04:28:49.223839",
     "exception": false,
     "start_time": "2023-11-17T04:28:48.832283",
     "status": "completed"
    },
    "tags": []
   },
   "outputs": [
    {
     "data": {
      "image/png": "[encoded data removed]",
      "text/plain": [
       "<Figure size 360x288 with 1 Axes>"
      ]
     },
     "metadata": {
      "needs_background": "light"
     },
     "output_type": "display_data"
    }
   ],
   "source": [
    "plt.figure(figsize = (5,4))\n",
    "sns.boxplot(data_desc, x= 'cluster', y = 'rating', palette = 'tab10', width = 0.7)\n",
    "plt.xlabel(\"Segments\")\n",
    "plt.ylabel(\"Rating\")\n",
    "plt.title(\"Parallel box and whisker plot of age by segment\")\n",
    "plt.savefig(\"rating.png\")\n",
    "plt.show()"
   ]
  },
  {
   "cell_type": "code",
   "execution_count": 109,
   "id": "6c780b89",
   "metadata": {
    "execution": {
     "iopub.execute_input": "2023-11-17T04:28:49.368633Z",
     "iopub.status.busy": "2023-11-17T04:28:49.368152Z",
     "iopub.status.idle": "2023-11-17T04:28:49.391650Z",
     "shell.execute_reply": "2023-11-17T04:28:49.390245Z"
    },
    "papermill": {
     "duration": 0.062951,
     "end_time": "2023-11-17T04:28:49.394159",
     "exception": false,
     "start_time": "2023-11-17T04:28:49.331208",
     "status": "completed"
    },
    "tags": []
   },
   "outputs": [
    {
     "data": {
      "text/html": [
       "<div>\n",
       "<style scoped>\n",
       "    .dataframe tbody tr th:only-of-type {\n",
       "        vertical-align: middle;\n",
       "    }\n",
       "\n",
       "    .dataframe tbody tr th {\n",
       "        vertical-align: top;\n",
       "    }\n",
       "\n",
       "    .dataframe thead th {\n",
       "        text-align: right;\n",
       "    }\n",
       "</style>\n",
       "<table border=\"1\" class=\"dataframe\">\n",
       "  <thead>\n",
       "    <tr style=\"text-align: right;\">\n",
       "      <th></th>\n",
       "      <th>review</th>\n",
       "      <th>Used it for</th>\n",
       "      <th>Owned for</th>\n",
       "      <th>Ridden for</th>\n",
       "      <th>rating</th>\n",
       "      <th>Visual Appeal</th>\n",
       "      <th>Reliability</th>\n",
       "      <th>Performance</th>\n",
       "      <th>Service Experience</th>\n",
       "      <th>Extra Features</th>\n",
       "      <th>Comfort</th>\n",
       "      <th>Maintenance cost</th>\n",
       "      <th>Value for Money</th>\n",
       "      <th>Model Name</th>\n",
       "      <th>Price</th>\n",
       "      <th>Riding Range (km)</th>\n",
       "      <th>Top Speed (kmph)</th>\n",
       "      <th>Weight (kg)</th>\n",
       "      <th>Battery Charging Time (hrs)</th>\n",
       "      <th>Rated Power (W)</th>\n",
       "      <th>sentiment</th>\n",
       "      <th>cluster</th>\n",
       "    </tr>\n",
       "  </thead>\n",
       "  <tbody>\n",
       "    <tr>\n",
       "      <th>0</th>\n",
       "      <td>We all checked the bike's capacity to be 150 k...</td>\n",
       "      <td>Daily Commute</td>\n",
       "      <td>Never owned</td>\n",
       "      <td>NaN</td>\n",
       "      <td>1</td>\n",
       "      <td>3.0</td>\n",
       "      <td>4.0</td>\n",
       "      <td>NaN</td>\n",
       "      <td>NaN</td>\n",
       "      <td>NaN</td>\n",
       "      <td>4.0</td>\n",
       "      <td>NaN</td>\n",
       "      <td>1.0</td>\n",
       "      <td>TVS iQube</td>\n",
       "      <td>137890</td>\n",
       "      <td>100</td>\n",
       "      <td>78</td>\n",
       "      <td>117</td>\n",
       "      <td>5</td>\n",
       "      <td>3000</td>\n",
       "      <td>negative</td>\n",
       "      <td>1</td>\n",
       "    </tr>\n",
       "    <tr>\n",
       "      <th>1</th>\n",
       "      <td>Performance is very poor on this bike. The cha...</td>\n",
       "      <td>Everything</td>\n",
       "      <td>&gt; 1 yr</td>\n",
       "      <td>&lt; 5000 kms</td>\n",
       "      <td>1</td>\n",
       "      <td>3.0</td>\n",
       "      <td>1.0</td>\n",
       "      <td>NaN</td>\n",
       "      <td>1.0</td>\n",
       "      <td>NaN</td>\n",
       "      <td>3.0</td>\n",
       "      <td>NaN</td>\n",
       "      <td>3.0</td>\n",
       "      <td>TVS iQube</td>\n",
       "      <td>137890</td>\n",
       "      <td>100</td>\n",
       "      <td>78</td>\n",
       "      <td>117</td>\n",
       "      <td>5</td>\n",
       "      <td>3000</td>\n",
       "      <td>negative</td>\n",
       "      <td>1</td>\n",
       "    </tr>\n",
       "    <tr>\n",
       "      <th>2</th>\n",
       "      <td>I purchased this in April 2022 and the sales s...</td>\n",
       "      <td>Daily Commute</td>\n",
       "      <td>&lt; 3 months</td>\n",
       "      <td>&lt; 5000 kms</td>\n",
       "      <td>3</td>\n",
       "      <td>4.0</td>\n",
       "      <td>4.0</td>\n",
       "      <td>NaN</td>\n",
       "      <td>2.0</td>\n",
       "      <td>NaN</td>\n",
       "      <td>5.0</td>\n",
       "      <td>NaN</td>\n",
       "      <td>2.0</td>\n",
       "      <td>TVS iQube</td>\n",
       "      <td>137890</td>\n",
       "      <td>100</td>\n",
       "      <td>78</td>\n",
       "      <td>117</td>\n",
       "      <td>5</td>\n",
       "      <td>3000</td>\n",
       "      <td>positive</td>\n",
       "      <td>2</td>\n",
       "    </tr>\n",
       "    <tr>\n",
       "      <th>3</th>\n",
       "      <td>If any issues come in scooty parts not availab...</td>\n",
       "      <td>Daily Commute</td>\n",
       "      <td>6 months-1 yr</td>\n",
       "      <td>5000-10000 kms</td>\n",
       "      <td>1</td>\n",
       "      <td>1.0</td>\n",
       "      <td>1.0</td>\n",
       "      <td>NaN</td>\n",
       "      <td>1.0</td>\n",
       "      <td>NaN</td>\n",
       "      <td>1.0</td>\n",
       "      <td>NaN</td>\n",
       "      <td>1.0</td>\n",
       "      <td>TVS iQube</td>\n",
       "      <td>137890</td>\n",
       "      <td>100</td>\n",
       "      <td>78</td>\n",
       "      <td>117</td>\n",
       "      <td>5</td>\n",
       "      <td>3000</td>\n",
       "      <td>negative</td>\n",
       "      <td>1</td>\n",
       "    </tr>\n",
       "    <tr>\n",
       "      <th>4</th>\n",
       "      <td>Don't buy this vehicle unless you have a near ...</td>\n",
       "      <td>Daily Commute</td>\n",
       "      <td>6 months-1 yr</td>\n",
       "      <td>&lt; 5000 kms</td>\n",
       "      <td>1</td>\n",
       "      <td>3.0</td>\n",
       "      <td>4.0</td>\n",
       "      <td>NaN</td>\n",
       "      <td>1.0</td>\n",
       "      <td>NaN</td>\n",
       "      <td>3.0</td>\n",
       "      <td>NaN</td>\n",
       "      <td>2.0</td>\n",
       "      <td>TVS iQube</td>\n",
       "      <td>137890</td>\n",
       "      <td>100</td>\n",
       "      <td>78</td>\n",
       "      <td>117</td>\n",
       "      <td>5</td>\n",
       "      <td>3000</td>\n",
       "      <td>negative</td>\n",
       "      <td>2</td>\n",
       "    </tr>\n",
       "  </tbody>\n",
       "</table>\n",
       "</div>"
      ],
      "text/plain": [
       "                                              review    Used it for  \\\n",
       "0  We all checked the bike's capacity to be 150 k...  Daily Commute   \n",
       "1  Performance is very poor on this bike. The cha...     Everything   \n",
       "2  I purchased this in April 2022 and the sales s...  Daily Commute   \n",
       "3  If any issues come in scooty parts not availab...  Daily Commute   \n",
       "4  Don't buy this vehicle unless you have a near ...  Daily Commute   \n",
       "\n",
       "       Owned for      Ridden for  rating  Visual Appeal  Reliability  \\\n",
       "0    Never owned             NaN       1            3.0          4.0   \n",
       "1         > 1 yr      < 5000 kms       1            3.0          1.0   \n",
       "2     < 3 months      < 5000 kms       3            4.0          4.0   \n",
       "3  6 months-1 yr  5000-10000 kms       1            1.0          1.0   \n",
       "4  6 months-1 yr      < 5000 kms       1            3.0          4.0   \n",
       "\n",
       "   Performance  Service Experience  Extra Features  Comfort  Maintenance cost  \\\n",
       "0          NaN                 NaN             NaN      4.0               NaN   \n",
       "1          NaN                 1.0             NaN      3.0               NaN   \n",
       "2          NaN                 2.0             NaN      5.0               NaN   \n",
       "3          NaN                 1.0             NaN      1.0               NaN   \n",
       "4          NaN                 1.0             NaN      3.0               NaN   \n",
       "\n",
       "   Value for Money Model Name   Price  Riding Range (km)  Top Speed (kmph)  \\\n",
       "0              1.0  TVS iQube  137890                100                78   \n",
       "1              3.0  TVS iQube  137890                100                78   \n",
       "2              2.0  TVS iQube  137890                100                78   \n",
       "3              1.0  TVS iQube  137890                100                78   \n",
       "4              2.0  TVS iQube  137890                100                78   \n",
       "\n",
       "   Weight (kg)  Battery Charging Time (hrs)  Rated Power (W) sentiment  \\\n",
       "0          117                            5             3000  negative   \n",
       "1          117                            5             3000  negative   \n",
       "2          117                            5             3000  positive   \n",
       "3          117                            5             3000  negative   \n",
       "4          117                            5             3000  negative   \n",
       "\n",
       "   cluster  \n",
       "0        1  \n",
       "1        1  \n",
       "2        2  \n",
       "3        1  \n",
       "4        2  "
      ]
     },
     "execution_count": 109,
     "metadata": {},
     "output_type": "execute_result"
    }
   ],
   "source": [
    "data_desc.head()"
   ]
  },
  {
   "cell_type": "code",
   "execution_count": 110,
   "id": "d35620ef",
   "metadata": {
    "execution": {
     "iopub.execute_input": "2023-11-17T04:28:49.471622Z",
     "iopub.status.busy": "2023-11-17T04:28:49.471230Z",
     "iopub.status.idle": "2023-11-17T04:28:50.667118Z",
     "shell.execute_reply": "2023-11-17T04:28:50.665954Z"
    },
    "papermill": {
     "duration": 1.238507,
     "end_time": "2023-11-17T04:28:50.669926",
     "exception": false,
     "start_time": "2023-11-17T04:28:49.431419",
     "status": "completed"
    },
    "tags": []
   },
   "outputs": [
    {
     "data": {
      "image/png": "[encoded data removed]",
      "text/plain": [
       "<Figure size 720x864 with 6 Axes>"
      ]
     },
     "metadata": {
      "needs_background": "light"
     },
     "output_type": "display_data"
    }
   ],
   "source": [
    "plt.figure(figsize = (10, 12))\n",
    "for i, col in enumerate(data_desc.columns[-8:-2]):\n",
    "    plt.subplot(3, 2, i+1)\n",
    "    sns.boxplot(data_desc, x = 'cluster', y =col)\n",
    "    plt.xlabel(\"Segments\", fontsize= 10)\n",
    "    plt.ylabel(col, fontsize = 10)\n",
    "    plt.xticks(fontsize = 8)\n",
    "    plt.yticks(fontsize = 8)\n",
    "plt.tight_layout()\n",
    "plt.show()"
   ]
  },
  {
   "cell_type": "code",
   "execution_count": null,
   "id": "339e81a3",
   "metadata": {},
   "outputs": [],
   "source": []
  },
  {
   "cell_type": "code",
   "execution_count": null,
   "id": "35bc7d14",
   "metadata": {},
   "outputs": [],
   "source": []
  },
  {
   "cell_type": "code",
   "execution_count": null,
   "id": "35252b8f",
   "metadata": {},
   "outputs": [],
   "source": []
  },
  {
   "cell_type": "code",
   "execution_count": null,
   "id": "383ca31e",
   "metadata": {},
   "outputs": [],
   "source": []
  },
  {
   "cell_type": "code",
   "execution_count": null,
   "id": "6c9aab08",
   "metadata": {},
   "outputs": [],
   "source": []
  },
  {
   "cell_type": "code",
   "execution_count": null,
   "id": "d4c1d504",
   "metadata": {},
   "outputs": [],
   "source": []
  }
 ],
 "metadata": {
  "kaggle": {
   "accelerator": "none",
   "dataSources": [
    {
     "datasetId": 3929925,
     "sourceId": 6835472,
     "sourceType": "datasetVersion"
    }
   ],
   "dockerImageVersionId": 30558,
   "isGpuEnabled": false,
   "isInternetEnabled": true,
   "language": "python",
   "sourceType": "notebook"
  },
  "kernelspec": {
   "display_name": "Python 3 (ipykernel)",
   "language": "python",
   "name": "python3"
  },
  "language_info": {
   "codemirror_mode": {
    "name": "ipython",
    "version": 3
   },
   "file_extension": ".py",
   "mimetype": "text/x-python",
   "name": "python",
   "nbconvert_exporter": "python",
   "pygments_lexer": "ipython3",
   "version": "3.9.7"
  },
  "papermill": {
   "default_parameters": {},
   "duration": 23.555605,
   "end_time": "2023-11-17T04:28:52.361374",
   "environment_variables": {},
   "exception": null,
   "input_path": "__notebook__.ipynb",
   "output_path": "__notebook__.ipynb",
   "parameters": {},
   "start_time": "2023-11-17T04:28:28.805769",
   "version": "2.4.0"
  }
 },
 "nbformat": 4,
 "nbformat_minor": 5
}
